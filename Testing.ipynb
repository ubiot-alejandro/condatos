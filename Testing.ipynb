{
 "cells": [
  {
   "cell_type": "markdown",
   "metadata": {},
   "source": [
    "# Con Datos\n",
    "\n",
    "Developed by Ubiot - 2020"
   ]
  },
  {
   "cell_type": "code",
   "execution_count": 2,
   "metadata": {},
   "outputs": [],
   "source": [
    "#Importar las librerías necesarias\n",
    "import csv\n",
    "import numpy as np\n",
    "from datascience import *"
   ]
  },
  {
   "cell_type": "code",
   "execution_count": 39,
   "metadata": {},
   "outputs": [
    {
     "data": {
      "text/html": [
       "<table border=\"1\" class=\"dataframe\">\n",
       "    <thead>\n",
       "        <tr>\n",
       "            <th>Región N°</th> <th>Región</th> <th>Provincia N°</th> <th>Provincia</th> <th>Comuna N°</th> <th>Comuna</th> <th>Sexo</th> <th>Edad</th> <th>a2002</th> <th>a2003</th> <th>a2004</th> <th>a2005</th> <th>a2006</th> <th>a2007</th> <th>a2008</th> <th>a2009</th> <th>a2010</th> <th>a2011</th> <th>2012</th> <th>2013</th> <th>2014</th> <th>2015</th> <th>2016</th> <th>2017</th> <th>2018</th> <th>2019</th> <th>2020</th>\n",
       "        </tr>\n",
       "    </thead>\n",
       "    <tbody>\n",
       "        <tr>\n",
       "            <td>13       </td> <td>Región Metropolitana</td> <td>131         </td> <td>Santiago </td> <td>13.112   </td> <td>La Pintana</td> <td>1   </td> <td>0   </td> <td>1.721</td> <td>1.721</td> <td>1.675</td> <td>1.645</td> <td>1.646</td> <td>1.677</td> <td>1.72 </td> <td>1.754</td> <td>1.757</td> <td>1.736</td> <td>1.708</td> <td>1.696</td> <td>1.705</td> <td>1.712</td> <td>1.709</td> <td>1.698</td> <td>1.685</td> <td>1.671</td> <td>1.656</td>\n",
       "        </tr>\n",
       "        <tr>\n",
       "            <td>13       </td> <td>Región Metropolitana</td> <td>131         </td> <td>Santiago </td> <td>13.112   </td> <td>La Pintana</td> <td>1   </td> <td>1   </td> <td>1.738</td> <td>1.725</td> <td>1.725</td> <td>1.679</td> <td>1.65 </td> <td>1.652</td> <td>1.684</td> <td>1.728</td> <td>1.761</td> <td>1.766</td> <td>1.746</td> <td>1.718</td> <td>1.706</td> <td>1.716</td> <td>1.723</td> <td>1.72 </td> <td>1.708</td> <td>1.696</td> <td>1.682</td>\n",
       "        </tr>\n",
       "        <tr>\n",
       "            <td>13       </td> <td>Región Metropolitana</td> <td>131         </td> <td>Santiago </td> <td>13.112   </td> <td>La Pintana</td> <td>1   </td> <td>2   </td> <td>1.793</td> <td>1.75 </td> <td>1.737</td> <td>1.738</td> <td>1.692</td> <td>1.664</td> <td>1.667</td> <td>1.699</td> <td>1.743</td> <td>1.778</td> <td>1.783</td> <td>1.763</td> <td>1.735</td> <td>1.723</td> <td>1.733</td> <td>1.74 </td> <td>1.737</td> <td>1.725</td> <td>1.712</td>\n",
       "        </tr>\n",
       "        <tr>\n",
       "            <td>13       </td> <td>Región Metropolitana</td> <td>131         </td> <td>Santiago </td> <td>13.112   </td> <td>La Pintana</td> <td>1   </td> <td>3   </td> <td>1.99 </td> <td>1.938</td> <td>1.891</td> <td>1.878</td> <td>1.879</td> <td>1.831</td> <td>1.801</td> <td>1.804</td> <td>1.838</td> <td>1.887</td> <td>1.925</td> <td>1.931</td> <td>1.909</td> <td>1.879</td> <td>1.866</td> <td>1.876</td> <td>1.883</td> <td>1.88 </td> <td>1.867</td>\n",
       "        </tr>\n",
       "        <tr>\n",
       "            <td>13       </td> <td>Región Metropolitana</td> <td>131         </td> <td>Santiago </td> <td>13.112   </td> <td>La Pintana</td> <td>1   </td> <td>4   </td> <td>2.169</td> <td>2.112</td> <td>2.058</td> <td>2.009</td> <td>1.995</td> <td>1.998</td> <td>1.947</td> <td>1.916</td> <td>1.92 </td> <td>1.957</td> <td>2.009</td> <td>2.05 </td> <td>2.057</td> <td>2.034</td> <td>2.002</td> <td>1.988</td> <td>1.999</td> <td>2.006</td> <td>2.003</td>\n",
       "        </tr>\n",
       "        <tr>\n",
       "            <td>13       </td> <td>Región Metropolitana</td> <td>131         </td> <td>Santiago </td> <td>13.112   </td> <td>La Pintana</td> <td>1   </td> <td>5   </td> <td>1.894</td> <td>1.845</td> <td>1.797</td> <td>1.751</td> <td>1.709</td> <td>1.698</td> <td>1.701</td> <td>1.658</td> <td>1.631</td> <td>1.635</td> <td>1.667</td> <td>1.712</td> <td>1.746</td> <td>1.752</td> <td>1.732</td> <td>1.705</td> <td>1.692</td> <td>1.701</td> <td>1.707</td>\n",
       "        </tr>\n",
       "        <tr>\n",
       "            <td>13       </td> <td>Región Metropolitana</td> <td>131         </td> <td>Santiago </td> <td>13.112   </td> <td>La Pintana</td> <td>1   </td> <td>6   </td> <td>2.027</td> <td>1.978</td> <td>1.927</td> <td>1.877</td> <td>1.829</td> <td>1.787</td> <td>1.777</td> <td>1.78 </td> <td>1.735</td> <td>1.707</td> <td>1.712</td> <td>1.746</td> <td>1.793</td> <td>1.83 </td> <td>1.836</td> <td>1.815</td> <td>1.786</td> <td>1.773</td> <td>1.782</td>\n",
       "        </tr>\n",
       "        <tr>\n",
       "            <td>13       </td> <td>Región Metropolitana</td> <td>131         </td> <td>Santiago </td> <td>13.112   </td> <td>La Pintana</td> <td>1   </td> <td>7   </td> <td>1.897</td> <td>1.855</td> <td>1.811</td> <td>1.765</td> <td>1.72 </td> <td>1.676</td> <td>1.638</td> <td>1.629</td> <td>1.632</td> <td>1.591</td> <td>1.567</td> <td>1.571</td> <td>1.602</td> <td>1.646</td> <td>1.68 </td> <td>1.685</td> <td>1.666</td> <td>1.639</td> <td>1.628</td>\n",
       "        </tr>\n",
       "        <tr>\n",
       "            <td>13       </td> <td>Región Metropolitana</td> <td>131         </td> <td>Santiago </td> <td>13.112   </td> <td>La Pintana</td> <td>1   </td> <td>8   </td> <td>2.081</td> <td>2.038</td> <td>1.994</td> <td>1.946</td> <td>1.897</td> <td>1.849</td> <td>1.803</td> <td>1.762</td> <td>1.752</td> <td>1.756</td> <td>1.713</td> <td>1.687</td> <td>1.691</td> <td>1.725</td> <td>1.772</td> <td>1.808</td> <td>1.813</td> <td>1.793</td> <td>1.764</td>\n",
       "        </tr>\n",
       "        <tr>\n",
       "            <td>13       </td> <td>Región Metropolitana</td> <td>131         </td> <td>Santiago </td> <td>13.112   </td> <td>La Pintana</td> <td>1   </td> <td>9   </td> <td>2.171</td> <td>2.13 </td> <td>2.087</td> <td>2.041</td> <td>1.993</td> <td>1.943</td> <td>1.895</td> <td>1.848</td> <td>1.806</td> <td>1.796</td> <td>1.801</td> <td>1.757</td> <td>1.73 </td> <td>1.735</td> <td>1.77 </td> <td>1.818</td> <td>1.854</td> <td>1.86 </td> <td>1.839</td>\n",
       "        </tr>\n",
       "    </tbody>\n",
       "</table>\n",
       "<p>... (152 rows omitted)</p>"
      ],
      "text/plain": [
       "Región N° | Región               | Provincia N° | Provincia | Comuna N° | Comuna     | Sexo | Edad | a2002 | a2003 | a2004 | a2005 | a2006 | a2007 | a2008 | a2009 | a2010 | a2011 | 2012  | 2013  | 2014  | 2015  | 2016  | 2017  | 2018  | 2019  | 2020\n",
       "13        | Región Metropolitana | 131          | Santiago  | 13.112    | La Pintana | 1    | 0    | 1.721 | 1.721 | 1.675 | 1.645 | 1.646 | 1.677 | 1.72  | 1.754 | 1.757 | 1.736 | 1.708 | 1.696 | 1.705 | 1.712 | 1.709 | 1.698 | 1.685 | 1.671 | 1.656\n",
       "13        | Región Metropolitana | 131          | Santiago  | 13.112    | La Pintana | 1    | 1    | 1.738 | 1.725 | 1.725 | 1.679 | 1.65  | 1.652 | 1.684 | 1.728 | 1.761 | 1.766 | 1.746 | 1.718 | 1.706 | 1.716 | 1.723 | 1.72  | 1.708 | 1.696 | 1.682\n",
       "13        | Región Metropolitana | 131          | Santiago  | 13.112    | La Pintana | 1    | 2    | 1.793 | 1.75  | 1.737 | 1.738 | 1.692 | 1.664 | 1.667 | 1.699 | 1.743 | 1.778 | 1.783 | 1.763 | 1.735 | 1.723 | 1.733 | 1.74  | 1.737 | 1.725 | 1.712\n",
       "13        | Región Metropolitana | 131          | Santiago  | 13.112    | La Pintana | 1    | 3    | 1.99  | 1.938 | 1.891 | 1.878 | 1.879 | 1.831 | 1.801 | 1.804 | 1.838 | 1.887 | 1.925 | 1.931 | 1.909 | 1.879 | 1.866 | 1.876 | 1.883 | 1.88  | 1.867\n",
       "13        | Región Metropolitana | 131          | Santiago  | 13.112    | La Pintana | 1    | 4    | 2.169 | 2.112 | 2.058 | 2.009 | 1.995 | 1.998 | 1.947 | 1.916 | 1.92  | 1.957 | 2.009 | 2.05  | 2.057 | 2.034 | 2.002 | 1.988 | 1.999 | 2.006 | 2.003\n",
       "13        | Región Metropolitana | 131          | Santiago  | 13.112    | La Pintana | 1    | 5    | 1.894 | 1.845 | 1.797 | 1.751 | 1.709 | 1.698 | 1.701 | 1.658 | 1.631 | 1.635 | 1.667 | 1.712 | 1.746 | 1.752 | 1.732 | 1.705 | 1.692 | 1.701 | 1.707\n",
       "13        | Región Metropolitana | 131          | Santiago  | 13.112    | La Pintana | 1    | 6    | 2.027 | 1.978 | 1.927 | 1.877 | 1.829 | 1.787 | 1.777 | 1.78  | 1.735 | 1.707 | 1.712 | 1.746 | 1.793 | 1.83  | 1.836 | 1.815 | 1.786 | 1.773 | 1.782\n",
       "13        | Región Metropolitana | 131          | Santiago  | 13.112    | La Pintana | 1    | 7    | 1.897 | 1.855 | 1.811 | 1.765 | 1.72  | 1.676 | 1.638 | 1.629 | 1.632 | 1.591 | 1.567 | 1.571 | 1.602 | 1.646 | 1.68  | 1.685 | 1.666 | 1.639 | 1.628\n",
       "13        | Región Metropolitana | 131          | Santiago  | 13.112    | La Pintana | 1    | 8    | 2.081 | 2.038 | 1.994 | 1.946 | 1.897 | 1.849 | 1.803 | 1.762 | 1.752 | 1.756 | 1.713 | 1.687 | 1.691 | 1.725 | 1.772 | 1.808 | 1.813 | 1.793 | 1.764\n",
       "13        | Región Metropolitana | 131          | Santiago  | 13.112    | La Pintana | 1    | 9    | 2.171 | 2.13  | 2.087 | 2.041 | 1.993 | 1.943 | 1.895 | 1.848 | 1.806 | 1.796 | 1.801 | 1.757 | 1.73  | 1.735 | 1.77  | 1.818 | 1.854 | 1.86  | 1.839\n",
       "... (152 rows omitted)"
      ]
     },
     "execution_count": 39,
     "metadata": {},
     "output_type": "execute_result"
    }
   ],
   "source": [
    "#Procesamiento del archivo acerca de la población del 2002 al 2020\n",
    "poblacion = Table.read_table(\"poblacion_2002_2020.csv\", encoding='latin-1', delimiter=\";\")\n",
    "poblacion.relabel(\"Region\", \"Región N°\")\n",
    "poblacion.relabel(\"nombre_region\", \"Región\")\n",
    "poblacion.relabel(\"provincia\", \"Provincia N°\")\n",
    "poblacion.relabel(\"Nombre_provincia\", \"Provincia\")\n",
    "poblacion.relabel(\"Comuna\", \"Comuna N°\")\n",
    "poblacion.relabel(\"nombre_comuna\", \"Comuna\")\n",
    "poblacion.relabel(\"Sexo (1=hombres;2=mujeres)\", \"Sexo\")\n",
    "poblacion.relabel(\"edad\", \"Edad\")\n",
    "poblacion.relabel(\"a2012\", \"2012\")\n",
    "poblacion.relabel(\"a2013\", \"2013\")\n",
    "poblacion.relabel(\"a2014\", \"2014\")\n",
    "poblacion.relabel(\"a2015\", \"2015\")\n",
    "poblacion.relabel(\"a2016\", \"2016\")\n",
    "poblacion.relabel(\"a2017\", \"2017\")\n",
    "poblacion.relabel(\"a2018\", \"2018\")\n",
    "poblacion.relabel(\"a2019\", \"2019\")\n",
    "poblacion.relabel(\"a2020\", \"2020\")"
   ]
  },
  {
   "cell_type": "code",
   "execution_count": 40,
   "metadata": {},
   "outputs": [
    {
     "data": {
      "text/html": [
       "<table border=\"1\" class=\"dataframe\">\n",
       "    <thead>\n",
       "        <tr>\n",
       "            <th>Región N°</th> <th>Región</th> <th>Provincia N°</th> <th>Provincia</th> <th>Comuna N°</th> <th>Comuna</th> <th>Sexo</th> <th>Edad</th> <th>2012</th> <th>2013</th> <th>2014</th> <th>2015</th> <th>2016</th> <th>2017</th> <th>2018</th> <th>2019</th> <th>2020</th>\n",
       "        </tr>\n",
       "    </thead>\n",
       "    <tbody>\n",
       "        <tr>\n",
       "            <td>13       </td> <td>Región Metropolitana</td> <td>131         </td> <td>Santiago </td> <td>13.112   </td> <td>La Pintana</td> <td>1   </td> <td>25  </td> <td>1.832</td> <td>1.84 </td> <td>1.859</td> <td>1.866</td> <td>1.857</td> <td>1.832</td> <td>1.8  </td> <td>1.769</td> <td>1.737</td>\n",
       "        </tr>\n",
       "        <tr>\n",
       "            <td>13       </td> <td>Región Metropolitana</td> <td>131         </td> <td>Santiago </td> <td>13.112   </td> <td>La Pintana</td> <td>2   </td> <td>25  </td> <td>1.648</td> <td>1.664</td> <td>1.672</td> <td>1.67 </td> <td>1.654</td> <td>1.628</td> <td>1.596</td> <td>1.565</td> <td>1.533</td>\n",
       "        </tr>\n",
       "    </tbody>\n",
       "</table>"
      ],
      "text/plain": [
       "Región N° | Región               | Provincia N° | Provincia | Comuna N° | Comuna     | Sexo | Edad | 2012  | 2013  | 2014  | 2015  | 2016  | 2017  | 2018  | 2019  | 2020\n",
       "13        | Región Metropolitana | 131          | Santiago  | 13.112    | La Pintana | 1    | 25   | 1.832 | 1.84  | 1.859 | 1.866 | 1.857 | 1.832 | 1.8   | 1.769 | 1.737\n",
       "13        | Región Metropolitana | 131          | Santiago  | 13.112    | La Pintana | 2    | 25   | 1.648 | 1.664 | 1.672 | 1.67  | 1.654 | 1.628 | 1.596 | 1.565 | 1.533"
      ]
     },
     "execution_count": 40,
     "metadata": {},
     "output_type": "execute_result"
    }
   ],
   "source": [
    "#Seleccionar solo los últimos 10 años\n",
    "pob = poblacion.drop(\"a2002\", \"a2003\", \"a2004\", \"a2005\", \"a2006\", \"a2007\", \"a2008\", \"a2009\", \"a2010\", \"a2011\")\n",
    "pob_25 = pob.where(\"Edad\", 25)\n",
    "pob_25"
   ]
  },
  {
   "cell_type": "code",
   "execution_count": null,
   "metadata": {},
   "outputs": [],
   "source": []
  }
 ],
 "metadata": {
  "anaconda-cloud": {},
  "course": "8x-audit",
  "kernelspec": {
   "display_name": "Python 3",
   "language": "python",
   "name": "python3"
  },
  "lab": "lab05",
  "language_info": {
   "codemirror_mode": {
    "name": "ipython",
    "version": 3
   },
   "file_extension": ".py",
   "mimetype": "text/x-python",
   "name": "python",
   "nbconvert_exporter": "python",
   "pygments_lexer": "ipython3",
   "version": "3.7.3"
  },
  "section": "1"
 },
 "nbformat": 4,
 "nbformat_minor": 1
}
