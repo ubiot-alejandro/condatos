{
 "cells": [
  {
   "cell_type": "markdown",
   "metadata": {},
   "source": [
    "# Dinámica de la Población - Con Datos\n",
    "\n",
    "By Ubiot - 2020"
   ]
  },
  {
   "cell_type": "code",
   "execution_count": null,
   "metadata": {
    "scrolled": true
   },
   "outputs": [],
   "source": [
    "#Importar las librerías necesarias\n",
    "import csv\n",
    "import numpy as np\n",
    "from datascience import *\n",
    "\n",
    "#Procesamiento del archivo acerca de la población del 2002 al 2020\n",
    "poblacion = Table.read_table(\"poblacion_2002_2020.csv\", encoding='latin-1', delimiter=\";\")\n",
    "poblacion.relabel(\"Nombre_provincia\", \"Provincia\")\n",
    "poblacion.relabel(\"nombre_comuna\", \"Comuna\")\n",
    "poblacion.relabel(\"Sexo (1=hombres;2=mujeres)\", \"Sexo\")\n",
    "poblacion.relabel(\"edad\", \"Edad\")\n",
    "poblacion.where(\"Edad\", 20)"
   ]
  },
  {
   "cell_type": "markdown",
   "metadata": {},
   "source": [
    "# Primero\n",
    "Diferencia entre la cantidad de hombres de 20 años en el 2005 y la cantidad de hombres de 30 años en el 2015 para la misma localidad."
   ]
  },
  {
   "cell_type": "code",
   "execution_count": null,
   "metadata": {},
   "outputs": [],
   "source": [
    "pob = Table().with_columns(\n",
    "    \"Provincia\", poblacion.column(\"Provincia\"),\n",
    "    \"Comuna\", poblacion.column(\"Comuna\"),\n",
    "    \"Sexo\", poblacion.column(\"Sexo\"),\n",
    "    \"Edad\", poblacion.column(\"Edad\"),\n",
    "    \"2005\", poblacion.column(\"a2005\"),\n",
    "    \"2015\", poblacion.column(\"a2015\")\n",
    ")\n",
    "veinte1 = pob.where(\"Edad\", 20).where(\"Sexo\", 1)\n",
    "veinte1 = veinte1.drop(\"2015\").drop(\"Edad\").relabel(\"2005\", \"20 años - 2005\")\n",
    "treinta1 = pob.where(\"Edad\", 30).where(\"Sexo\", 1)\n",
    "pob1 = veinte1.with_columns(\n",
    "    \"30 años - 2015\", treinta1.column(\"2015\"),\n",
    "    \"Diferencia\", (veinte1.column(\"20 años - 2005\") - (treinta1.column(\"2015\")))\n",
    ")\n",
    "pob1"
   ]
  },
  {
   "cell_type": "markdown",
   "metadata": {},
   "source": [
    "# Segundo\n",
    "Diferencia entre la cantidad de mujeres de 20 años en el 2005 y la cantidad de hombres de 30 años en el 2015 para la misma localidad."
   ]
  },
  {
   "cell_type": "code",
   "execution_count": null,
   "metadata": {},
   "outputs": [],
   "source": [
    "veinte2 = pob.where(\"Edad\", 20).where(\"Sexo\", 2)\n",
    "veinte2 = veinte2.drop(\"2015\").drop(\"Edad\").relabel(\"2005\", \"20 años - 2005\")\n",
    "treinta2 = pob.where(\"Edad\", 30).where(\"Sexo\", 1)\n",
    "pob2 = veinte2.with_columns(\n",
    "    \"30 años - 2015\", treinta2.column(\"2015\"),\n",
    "    \"Diferencia\", (veinte2.column(\"20 años - 2005\") - (treinta2.column(\"2015\")))\n",
    ")\n",
    "pob2"
   ]
  },
  {
   "cell_type": "markdown",
   "metadata": {},
   "source": [
    "# Tercero\n",
    "Teniendo los datos validamos las posibles causas de la dinámica: relaciones, analisis estadisticos."
   ]
  },
  {
   "cell_type": "code",
   "execution_count": null,
   "metadata": {},
   "outputs": [],
   "source": []
  },
  {
   "cell_type": "markdown",
   "metadata": {},
   "source": [
    "# Cuarto\n",
    "Luego haremos una comparación estadística entre el comportamiento de la población masculina contra la femenina."
   ]
  },
  {
   "cell_type": "code",
   "execution_count": null,
   "metadata": {},
   "outputs": [],
   "source": []
  }
 ],
 "metadata": {
  "kernelspec": {
   "display_name": "Python 3",
   "language": "python",
   "name": "python3"
  },
  "language_info": {
   "codemirror_mode": {
    "name": "ipython",
    "version": 3
   },
   "file_extension": ".py",
   "mimetype": "text/x-python",
   "name": "python",
   "nbconvert_exporter": "python",
   "pygments_lexer": "ipython3",
   "version": "3.7.3"
  }
 },
 "nbformat": 4,
 "nbformat_minor": 2
}
