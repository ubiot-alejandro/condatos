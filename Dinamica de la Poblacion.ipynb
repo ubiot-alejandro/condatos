{
 "cells": [
  {
   "cell_type": "markdown",
   "metadata": {},
   "source": [
    "# Dinámica de la Población - Con Datos\n",
    "\n",
    "By Ubiot - 2020"
   ]
  },
  {
   "cell_type": "code",
   "execution_count": 89,
   "metadata": {
    "scrolled": true
   },
   "outputs": [
    {
     "data": {
      "text/html": [
       "<table border=\"1\" class=\"dataframe\">\n",
       "    <thead>\n",
       "        <tr>\n",
       "            <th>Region</th> <th>nombre_region</th> <th>provincia</th> <th>Provincia</th> <th>Comuna</th> <th>Sexo</th> <th>Edad</th> <th>a2002</th> <th>a2003</th> <th>a2004</th> <th>a2005</th> <th>a2006</th> <th>a2007</th> <th>a2008</th> <th>a2009</th> <th>a2010</th> <th>a2011</th> <th>a2012</th> <th>a2013</th> <th>a2014</th> <th>a2015</th> <th>a2016</th> <th>a2017</th> <th>a2018</th> <th>a2019</th> <th>a2020</th>\n",
       "        </tr>\n",
       "    </thead>\n",
       "    <tbody>\n",
       "        <tr>\n",
       "            <td>13    </td> <td>Región Metropolitana</td> <td>131      </td> <td>Santiago </td> <td>La Pintana</td> <td>1   </td> <td>20  </td> <td>1.937</td> <td>1.987</td> <td>2.005</td> <td>2.029</td> <td>2.059</td> <td>2.093</td> <td>2.1  </td> <td>2.121</td> <td>2.127</td> <td>2.114</td> <td>2.086</td> <td>2.049</td> <td>2.014</td> <td>1.977</td> <td>1.938</td> <td>1.895</td> <td>1.85 </td> <td>1.806</td> <td>1.763</td>\n",
       "        </tr>\n",
       "        <tr>\n",
       "            <td>13    </td> <td>Región Metropolitana</td> <td>131      </td> <td>Santiago </td> <td>La Pintana</td> <td>2   </td> <td>20  </td> <td>1.846</td> <td>1.885</td> <td>1.914</td> <td>1.943</td> <td>1.97 </td> <td>1.993</td> <td>2.011</td> <td>2.02 </td> <td>2.016</td> <td>1.996</td> <td>1.964</td> <td>1.924</td> <td>1.887</td> <td>1.85 </td> <td>1.813</td> <td>1.775</td> <td>1.739</td> <td>1.705</td> <td>1.674</td>\n",
       "        </tr>\n",
       "    </tbody>\n",
       "</table>"
      ],
      "text/plain": [
       "Region | nombre_region        | provincia | Provincia | Comuna     | Sexo | Edad | a2002 | a2003 | a2004 | a2005 | a2006 | a2007 | a2008 | a2009 | a2010 | a2011 | a2012 | a2013 | a2014 | a2015 | a2016 | a2017 | a2018 | a2019 | a2020\n",
       "13     | Región Metropolitana | 131       | Santiago  | La Pintana | 1    | 20   | 1.937 | 1.987 | 2.005 | 2.029 | 2.059 | 2.093 | 2.1   | 2.121 | 2.127 | 2.114 | 2.086 | 2.049 | 2.014 | 1.977 | 1.938 | 1.895 | 1.85  | 1.806 | 1.763\n",
       "13     | Región Metropolitana | 131       | Santiago  | La Pintana | 2    | 20   | 1.846 | 1.885 | 1.914 | 1.943 | 1.97  | 1.993 | 2.011 | 2.02  | 2.016 | 1.996 | 1.964 | 1.924 | 1.887 | 1.85  | 1.813 | 1.775 | 1.739 | 1.705 | 1.674"
      ]
     },
     "execution_count": 89,
     "metadata": {},
     "output_type": "execute_result"
    }
   ],
   "source": [
    "#Importar las librerías necesarias\n",
    "import csv\n",
    "import numpy as np\n",
    "from datascience import *\n",
    "\n",
    "#Procesamiento del archivo acerca de la población del 2002 al 2020\n",
    "poblacion = Table.read_table(\"poblacion_2002_2020.csv\", encoding='latin-1', delimiter=\";\")\n",
    "poblacion.relabel(\"Nombre_provincia\", \"Provincia\")\n",
    "poblacion.relabel(\"nombre_comuna\", \"Comuna\")\n",
    "poblacion.relabel(\"Sexo (1=hombres;2=mujeres)\", \"Sexo\")\n",
    "poblacion.relabel(\"edad\", \"Edad\")\n",
    "poblacion.where(\"Edad\", 20)"
   ]
  },
  {
   "cell_type": "markdown",
   "metadata": {},
   "source": [
    "# Primero\n",
    "Diferencia entre la cantidad de hombres de 20 años en el 2005 y la cantidad de hombres de 30 años en el 2015 para la misma localidad."
   ]
  },
  {
   "cell_type": "code",
   "execution_count": 87,
   "metadata": {},
   "outputs": [
    {
     "data": {
      "text/html": [
       "<table border=\"1\" class=\"dataframe\">\n",
       "    <thead>\n",
       "        <tr>\n",
       "            <th>Provincia</th> <th>Comuna</th> <th>Sexo</th> <th>20 años - 2005</th> <th>30 años - 2015</th> <th>Diferencia</th>\n",
       "        </tr>\n",
       "    </thead>\n",
       "    <tbody>\n",
       "        <tr>\n",
       "            <td>Santiago </td> <td>La Pintana</td> <td>1   </td> <td>2.029         </td> <td>1.654         </td> <td>0.375     </td>\n",
       "        </tr>\n",
       "    </tbody>\n",
       "</table>"
      ],
      "text/plain": [
       "Provincia | Comuna     | Sexo | 20 años - 2005 | 30 años - 2015 | Diferencia\n",
       "Santiago  | La Pintana | 1    | 2.029          | 1.654          | 0.375"
      ]
     },
     "execution_count": 87,
     "metadata": {},
     "output_type": "execute_result"
    }
   ],
   "source": [
    "pob = Table().with_columns(\n",
    "    \"Provincia\", poblacion.column(\"Provincia\"),\n",
    "    \"Comuna\", poblacion.column(\"Comuna\"),\n",
    "    \"Sexo\", poblacion.column(\"Sexo\"),\n",
    "    \"Edad\", poblacion.column(\"Edad\"),\n",
    "    \"2005\", poblacion.column(\"a2005\"),\n",
    "    \"2015\", poblacion.column(\"a2015\")\n",
    ")\n",
    "veinte1 = pob.where(\"Edad\", 20).where(\"Sexo\", 1)\n",
    "veinte1 = veinte1.drop(\"2015\").drop(\"Edad\").relabel(\"2005\", \"20 años - 2005\")\n",
    "treinta1 = pob.where(\"Edad\", 30).where(\"Sexo\", 1)\n",
    "pob1 = veinte.with_columns(\n",
    "    \"30 años - 2015\", treinta1.column(\"2015\"),\n",
    "    \"Diferencia\", (veinte1.column(\"20 años - 2005\") - (treinta1.column(\"2015\")))\n",
    ")\n",
    "pob1"
   ]
  },
  {
   "cell_type": "markdown",
   "metadata": {},
   "source": [
    "# Segundo\n",
    "Diferencia entre la cantidad de mujeres de 20 años en el 2005 y la cantidad de hombres de 30 años en el 2015 para la misma localidad."
   ]
  },
  {
   "cell_type": "code",
   "execution_count": 88,
   "metadata": {},
   "outputs": [
    {
     "data": {
      "text/html": [
       "<table border=\"1\" class=\"dataframe\">\n",
       "    <thead>\n",
       "        <tr>\n",
       "            <th>Provincia</th> <th>Comuna</th> <th>Sexo</th> <th>20 años - 2005</th> <th>30 años - 2015</th> <th>Diferencia</th>\n",
       "        </tr>\n",
       "    </thead>\n",
       "    <tbody>\n",
       "        <tr>\n",
       "            <td>Santiago </td> <td>La Pintana</td> <td>2   </td> <td>1.943         </td> <td>1.654         </td> <td>0.289     </td>\n",
       "        </tr>\n",
       "    </tbody>\n",
       "</table>"
      ],
      "text/plain": [
       "Provincia | Comuna     | Sexo | 20 años - 2005 | 30 años - 2015 | Diferencia\n",
       "Santiago  | La Pintana | 2    | 1.943          | 1.654          | 0.289"
      ]
     },
     "execution_count": 88,
     "metadata": {},
     "output_type": "execute_result"
    }
   ],
   "source": [
    "veinte2 = pob.where(\"Edad\", 20).where(\"Sexo\", 2)\n",
    "veinte2 = veinte2.drop(\"2015\").drop(\"Edad\").relabel(\"2005\", \"20 años - 2005\")\n",
    "treinta2 = pob.where(\"Edad\", 30).where(\"Sexo\", 1)\n",
    "pob2 = veinte2.with_columns(\n",
    "    \"30 años - 2015\", treinta2.column(\"2015\"),\n",
    "    \"Diferencia\", (veinte2.column(\"20 años - 2005\") - (treinta2.column(\"2015\")))\n",
    ")\n",
    "pob2"
   ]
  },
  {
   "cell_type": "markdown",
   "metadata": {},
   "source": [
    "# Tercero\n",
    "Teniendo los datos validamos las posibles causas de la dinámica: relaciones, analisis estadisticos."
   ]
  },
  {
   "cell_type": "code",
   "execution_count": null,
   "metadata": {},
   "outputs": [],
   "source": []
  },
  {
   "cell_type": "markdown",
   "metadata": {},
   "source": [
    "# Cuarto\n",
    "Luego haremos una comparación estadística entre el comportamiento de la población masculina contra la femenina."
   ]
  },
  {
   "cell_type": "code",
   "execution_count": null,
   "metadata": {},
   "outputs": [],
   "source": []
  }
 ],
 "metadata": {
  "kernelspec": {
   "display_name": "Python 3",
   "language": "python",
   "name": "python3"
  },
  "language_info": {
   "codemirror_mode": {
    "name": "ipython",
    "version": 3
   },
   "file_extension": ".py",
   "mimetype": "text/x-python",
   "name": "python",
   "nbconvert_exporter": "python",
   "pygments_lexer": "ipython3",
   "version": "3.7.3"
  }
 },
 "nbformat": 4,
 "nbformat_minor": 2
}
