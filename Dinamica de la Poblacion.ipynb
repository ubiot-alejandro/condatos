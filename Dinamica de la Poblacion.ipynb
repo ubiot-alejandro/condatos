{
 "cells": [
  {
   "cell_type": "markdown",
   "metadata": {},
   "source": [
    "# Dinámica de la Población - Con Datos\n",
    "\n",
    "By Ubiot - 2020"
   ]
  },
  {
   "cell_type": "code",
   "execution_count": 1,
   "metadata": {
    "scrolled": true
   },
   "outputs": [
    {
     "data": {
      "text/html": [
       "<table border=\"1\" class=\"dataframe\">\n",
       "    <thead>\n",
       "        <tr>\n",
       "            <th>Region</th> <th>nombre_region</th> <th>provincia</th> <th>Provincia</th> <th>Comuna</th> <th>Sexo</th> <th>Edad</th> <th>a2002</th> <th>a2003</th> <th>a2004</th> <th>a2005</th> <th>a2006</th> <th>a2007</th> <th>a2008</th> <th>a2009</th> <th>a2010</th> <th>a2011</th> <th>a2012</th> <th>a2013</th> <th>a2014</th> <th>a2015</th> <th>a2016</th> <th>a2017</th> <th>a2018</th> <th>a2019</th> <th>a2020</th>\n",
       "        </tr>\n",
       "    </thead>\n",
       "    <tbody>\n",
       "        <tr>\n",
       "            <td>13    </td> <td>Región Metropolitana</td> <td>131      </td> <td>Santiago </td> <td>La Pintana</td> <td>1   </td> <td>30  </td> <td>1.465</td> <td>1.463</td> <td>1.464</td> <td>1.465</td> <td>1.465</td> <td>1.467</td> <td>1.475</td> <td>1.491</td> <td>1.512</td> <td>1.538</td> <td>1.57 </td> <td>1.613</td> <td>1.632</td> <td>1.654</td> <td>1.679</td> <td>1.706</td> <td>1.712</td> <td>1.727</td> <td>1.732</td>\n",
       "        </tr>\n",
       "        <tr>\n",
       "            <td>13    </td> <td>Región Metropolitana</td> <td>131      </td> <td>Santiago </td> <td>La Pintana</td> <td>2   </td> <td>30  </td> <td>1.393</td> <td>1.391</td> <td>1.392</td> <td>1.391</td> <td>1.39 </td> <td>1.39 </td> <td>1.397</td> <td>1.412</td> <td>1.433</td> <td>1.465</td> <td>1.504</td> <td>1.537</td> <td>1.564</td> <td>1.589</td> <td>1.612</td> <td>1.631</td> <td>1.644</td> <td>1.649</td> <td>1.645</td>\n",
       "        </tr>\n",
       "    </tbody>\n",
       "</table>"
      ],
      "text/plain": [
       "Region | nombre_region        | provincia | Provincia | Comuna     | Sexo | Edad | a2002 | a2003 | a2004 | a2005 | a2006 | a2007 | a2008 | a2009 | a2010 | a2011 | a2012 | a2013 | a2014 | a2015 | a2016 | a2017 | a2018 | a2019 | a2020\n",
       "13     | Región Metropolitana | 131       | Santiago  | La Pintana | 1    | 30   | 1.465 | 1.463 | 1.464 | 1.465 | 1.465 | 1.467 | 1.475 | 1.491 | 1.512 | 1.538 | 1.57  | 1.613 | 1.632 | 1.654 | 1.679 | 1.706 | 1.712 | 1.727 | 1.732\n",
       "13     | Región Metropolitana | 131       | Santiago  | La Pintana | 2    | 30   | 1.393 | 1.391 | 1.392 | 1.391 | 1.39  | 1.39  | 1.397 | 1.412 | 1.433 | 1.465 | 1.504 | 1.537 | 1.564 | 1.589 | 1.612 | 1.631 | 1.644 | 1.649 | 1.645"
      ]
     },
     "execution_count": 1,
     "metadata": {},
     "output_type": "execute_result"
    }
   ],
   "source": [
    "#Importar las librerías necesarias\n",
    "import csv\n",
    "import numpy as np\n",
    "from datascience import *\n",
    "\n",
    "#Procesamiento del archivo acerca de la población del 2002 al 2020\n",
    "poblacion = Table.read_table(\"poblacion_2002_2020.csv\", encoding='latin-1', delimiter=\";\")\n",
    "poblacion.relabel(\"Nombre_provincia\", \"Provincia\")\n",
    "poblacion.relabel(\"nombre_comuna\", \"Comuna\")\n",
    "poblacion.relabel(\"Sexo (1=hombres;2=mujeres)\", \"Sexo\")\n",
    "poblacion.relabel(\"edad\", \"Edad\")\n",
    "poblacion.where(\"Edad\", 30)"
   ]
  },
  {
   "cell_type": "markdown",
   "metadata": {},
   "source": [
    "# Primero\n",
    "Diferencia entre la cantidad de hombres de 20 años en el 2005 y la cantidad de hombres de 30 años en el 2015 para la misma localidad."
   ]
  },
  {
   "cell_type": "code",
   "execution_count": 32,
   "metadata": {},
   "outputs": [
    {
     "data": {
      "text/html": [
       "<table border=\"1\" class=\"dataframe\">\n",
       "    <thead>\n",
       "        <tr>\n",
       "            <th>Provincia</th> <th>Comuna</th> <th>Sexo</th> <th>20 años - 2005</th> <th>30 años - 2015</th> <th>Diferencia</th> <th>Porcentaje</th>\n",
       "        </tr>\n",
       "    </thead>\n",
       "    <tbody>\n",
       "        <tr>\n",
       "            <td>Santiago </td> <td>La Pintana</td> <td>1   </td> <td>2.029         </td> <td>1.654         </td> <td>0.375     </td> <td>18.48%    </td>\n",
       "        </tr>\n",
       "    </tbody>\n",
       "</table>"
      ],
      "text/plain": [
       "Provincia | Comuna     | Sexo | 20 años - 2005 | 30 años - 2015 | Diferencia | Porcentaje\n",
       "Santiago  | La Pintana | 1    | 2.029          | 1.654          | 0.375      | 18.48%"
      ]
     },
     "execution_count": 32,
     "metadata": {},
     "output_type": "execute_result"
    }
   ],
   "source": [
    "pob = Table().with_columns(\n",
    "    \"Provincia\", poblacion.column(\"Provincia\"),\n",
    "    \"Comuna\", poblacion.column(\"Comuna\"),\n",
    "    \"Sexo\", poblacion.column(\"Sexo\"),\n",
    "    \"Edad\", poblacion.column(\"Edad\"),\n",
    "    \"2005\", poblacion.column(\"a2005\"),\n",
    "    \"2015\", poblacion.column(\"a2015\")\n",
    ")\n",
    "veinte1 = pob.where(\"Edad\", 20).where(\"Sexo\", 1)\n",
    "veinte1 = veinte1.drop(\"2015\").drop(\"Edad\").relabel(\"2005\", \"20 años - 2005\")\n",
    "treinta1 = pob.where(\"Edad\", 30).where(\"Sexo\", 1)\n",
    "pob1 = veinte1.with_columns(\n",
    "    \"30 años - 2015\", treinta1.column(\"2015\"),\n",
    "    \"Diferencia\", (veinte1.column(\"20 años - 2005\") - (treinta1.column(\"2015\"))),\n",
    "    \"Porcentaje\", ((veinte1.column(\"20 años - 2005\") - (treinta1.column(\"2015\"))) / veinte1.column(\"20 años - 2005\"))\n",
    ")\n",
    "pob1.set_format(\"Porcentaje\", PercentFormatter)"
   ]
  },
  {
   "cell_type": "markdown",
   "metadata": {},
   "source": [
    "# Segundo\n",
    "Diferencia entre la cantidad de mujeres de 20 años en el 2005 y la cantidad de mujeres de 30 años en el 2015 para la misma localidad."
   ]
  },
  {
   "cell_type": "code",
   "execution_count": 33,
   "metadata": {},
   "outputs": [
    {
     "data": {
      "text/html": [
       "<table border=\"1\" class=\"dataframe\">\n",
       "    <thead>\n",
       "        <tr>\n",
       "            <th>Provincia</th> <th>Comuna</th> <th>Sexo</th> <th>20 años - 2005</th> <th>30 años - 2015</th> <th>Diferencia</th> <th>Porcentaje</th>\n",
       "        </tr>\n",
       "    </thead>\n",
       "    <tbody>\n",
       "        <tr>\n",
       "            <td>Santiago </td> <td>La Pintana</td> <td>2   </td> <td>1.943         </td> <td>1.589         </td> <td>0.354     </td> <td>18.22%    </td>\n",
       "        </tr>\n",
       "    </tbody>\n",
       "</table>"
      ],
      "text/plain": [
       "Provincia | Comuna     | Sexo | 20 años - 2005 | 30 años - 2015 | Diferencia | Porcentaje\n",
       "Santiago  | La Pintana | 2    | 1.943          | 1.589          | 0.354      | 18.22%"
      ]
     },
     "execution_count": 33,
     "metadata": {},
     "output_type": "execute_result"
    }
   ],
   "source": [
    "veinte2 = pob.where(\"Edad\", 20).where(\"Sexo\", 2)\n",
    "veinte2 = veinte2.drop(\"2015\").drop(\"Edad\").relabel(\"2005\", \"20 años - 2005\")\n",
    "treinta2 = pob.where(\"Edad\", 30).where(\"Sexo\", 2)\n",
    "pob2 = veinte2.with_columns(\n",
    "    \"30 años - 2015\", treinta2.column(\"2015\"),\n",
    "    \"Diferencia\", (veinte2.column(\"20 años - 2005\") - (treinta2.column(\"2015\"))),\n",
    "    \"Porcentaje\", ((veinte2.column(\"20 años - 2005\") - (treinta2.column(\"2015\"))) / veinte2.column(\"20 años - 2005\"))\n",
    ")\n",
    "pob2.set_format(\"Porcentaje\", PercentFormatter)"
   ]
  },
  {
   "cell_type": "markdown",
   "metadata": {},
   "source": [
    "# Tercero\n",
    "Teniendo los datos validamos las posibles causas de la dinámica: relaciones, analisis estadisticos."
   ]
  },
  {
   "cell_type": "code",
   "execution_count": null,
   "metadata": {},
   "outputs": [],
   "source": []
  },
  {
   "cell_type": "markdown",
   "metadata": {},
   "source": [
    "# Cuarto\n",
    "Luego haremos una comparación estadística entre el comportamiento de la población masculina contra la femenina."
   ]
  },
  {
   "cell_type": "code",
   "execution_count": 18,
   "metadata": {},
   "outputs": [
    {
     "data": {
      "text/plain": [
       "array([0.000354])"
      ]
     },
     "execution_count": 18,
     "metadata": {},
     "output_type": "execute_result"
    }
   ],
   "source": []
  },
  {
   "cell_type": "code",
   "execution_count": null,
   "metadata": {},
   "outputs": [],
   "source": []
  }
 ],
 "metadata": {
  "kernelspec": {
   "display_name": "Python 3",
   "language": "python",
   "name": "python3"
  },
  "language_info": {
   "codemirror_mode": {
    "name": "ipython",
    "version": 3
   },
   "file_extension": ".py",
   "mimetype": "text/x-python",
   "name": "python",
   "nbconvert_exporter": "python",
   "pygments_lexer": "ipython3",
   "version": "3.7.3"
  }
 },
 "nbformat": 4,
 "nbformat_minor": 2
}
