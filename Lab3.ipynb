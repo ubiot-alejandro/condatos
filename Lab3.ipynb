{
 "cells": [
  {
   "cell_type": "markdown",
   "metadata": {},
   "source": [
    "# Lab 3: Tables\n",
    "\n",
    "Welcome to lab 3!  \n",
    "\n",
    "This week, we will focus on manipulating tables.  Tables are described in [Chapter 6](http://www.inferentialthinking.com/chapters/06/tables.html) of the text.\n",
    "\n",
    "First, set up the tests and imports by running the cell below."
   ]
  },
  {
   "cell_type": "code",
   "execution_count": 2,
   "metadata": {},
   "outputs": [],
   "source": [
    "import numpy as np\n",
    "from datascience import *\n",
    "\n",
    "# These lines load the tests.\n",
    "\n",
    "from gofer.ok import check"
   ]
  },
  {
   "cell_type": "markdown",
   "metadata": {},
   "source": [
    "## 1. Introduction\n",
    "\n",
    "For a collection of things in the world, an array is useful for describing a single attribute of each thing. For example, among the collection of US States, an array could describe the land area of each. Tables extend this idea by describing multiple attributes for each element of a collection.\n",
    "\n",
    "In most data science applications, we have data about many entities, but we also have several kinds of data about each entity.\n",
    "\n",
    "For example, in the cell below we have two arrays. The first one contains the world population in each year (estimated by the US Census Bureau), and the second contains the years themselves. These elements are in order, so the year and the world population for that year have the same index in their corresponding arrays."
   ]
  },
  {
   "cell_type": "code",
   "execution_count": 3,
   "metadata": {},
   "outputs": [
    {
     "name": "stdout",
     "output_type": "stream",
     "text": [
      "Population column: [2557628654 2594939877 2636772306 2682053389 2730228104 2782098943\n",
      " 2835299673 2891349717 2948137248 3000716593 3043001508 3083966929\n",
      " 3140093217 3209827882 3281201306 3350425793 3420677923 3490333715\n",
      " 3562313822 3637159050 3712697742 3790326948 3866568653 3942096442\n",
      " 4016608813 4089083233 4160185010 4232084578 4304105753 4379013942\n",
      " 4451362735 4534410125 4614566561 4695736743 4774569391 4856462699\n",
      " 4940571232 5027200492 5114557167 5201440110 5288955934 5371585922\n",
      " 5456136278 5538268316 5618682132 5699202985 5779440593 5857972543\n",
      " 5935213248 6012074922 6088571383 6165219247 6242016348 6318590956\n",
      " 6395699509 6473044732 6551263534 6629913759 6709049780 6788214394\n",
      " 6866332358 6944055583 7022349283 7101027895 7178722893 7256490011]\n",
      "Years column: [1950 1951 1952 1953 1954 1955 1956 1957 1958 1959 1960 1961 1962 1963\n",
      " 1964 1965 1966 1967 1968 1969 1970 1971 1972 1973 1974 1975 1976 1977\n",
      " 1978 1979 1980 1981 1982 1983 1984 1985 1986 1987 1988 1989 1990 1991\n",
      " 1992 1993 1994 1995 1996 1997 1998 1999 2000 2001 2002 2003 2004 2005\n",
      " 2006 2007 2008 2009 2010 2011 2012 2013 2014 2015]\n"
     ]
    }
   ],
   "source": [
    "population_amounts = Table.read_table(\"world_population.csv\").column(\"Population\")\n",
    "years = np.arange(1950, 2015+1)\n",
    "print(\"Population column:\", population_amounts)\n",
    "print(\"Years column:\", years)"
   ]
  },
  {
   "cell_type": "markdown",
   "metadata": {},
   "source": [
    "Suppose we want to answer this question:\n",
    "\n",
    "> When did world population cross 6 billion?\n",
    "\n",
    "You could technically answer this question just from staring at the arrays, but it's a bit convoluted, since you would have to count the position where the population first crossed 6 billion, then find the corresponding element in the years array. In cases like these, it might be easier to put the data into a *`Table`*, a 2-dimensional type of dataset. \n",
    "\n",
    "The expression below:\n",
    "\n",
    "- creates an empty table using the expression `Table()`,\n",
    "- adds two columns by calling `with_columns` with four arguments,\n",
    "- assignes the result to the name `population`, and finally\n",
    "- evaluates `population` so that we can see the table.\n",
    "\n",
    "The strings `\"Year\"` and `\"Population\"` are column labels that we have chosen. Ther names `population_amounts` and `years` were assigned above to two arrays of the same length. The function `with_columns` (you can find the documentation [here](http://data8.org/datascience/tables.html)) takes in alternating strings (to represent column labels) and arrays (representing the data in those columns), which are all separated by commas."
   ]
  },
  {
   "cell_type": "code",
   "execution_count": 4,
   "metadata": {},
   "outputs": [
    {
     "data": {
      "text/html": [
       "<table border=\"1\" class=\"dataframe\">\n",
       "    <thead>\n",
       "        <tr>\n",
       "            <th>Population</th> <th>Year</th>\n",
       "        </tr>\n",
       "    </thead>\n",
       "    <tbody>\n",
       "        <tr>\n",
       "            <td>2557628654</td> <td>1950</td>\n",
       "        </tr>\n",
       "        <tr>\n",
       "            <td>2594939877</td> <td>1951</td>\n",
       "        </tr>\n",
       "        <tr>\n",
       "            <td>2636772306</td> <td>1952</td>\n",
       "        </tr>\n",
       "        <tr>\n",
       "            <td>2682053389</td> <td>1953</td>\n",
       "        </tr>\n",
       "        <tr>\n",
       "            <td>2730228104</td> <td>1954</td>\n",
       "        </tr>\n",
       "        <tr>\n",
       "            <td>2782098943</td> <td>1955</td>\n",
       "        </tr>\n",
       "        <tr>\n",
       "            <td>2835299673</td> <td>1956</td>\n",
       "        </tr>\n",
       "        <tr>\n",
       "            <td>2891349717</td> <td>1957</td>\n",
       "        </tr>\n",
       "        <tr>\n",
       "            <td>2948137248</td> <td>1958</td>\n",
       "        </tr>\n",
       "        <tr>\n",
       "            <td>3000716593</td> <td>1959</td>\n",
       "        </tr>\n",
       "    </tbody>\n",
       "</table>\n",
       "<p>... (56 rows omitted)</p>"
      ],
      "text/plain": [
       "Population | Year\n",
       "2557628654 | 1950\n",
       "2594939877 | 1951\n",
       "2636772306 | 1952\n",
       "2682053389 | 1953\n",
       "2730228104 | 1954\n",
       "2782098943 | 1955\n",
       "2835299673 | 1956\n",
       "2891349717 | 1957\n",
       "2948137248 | 1958\n",
       "3000716593 | 1959\n",
       "... (56 rows omitted)"
      ]
     },
     "execution_count": 4,
     "metadata": {},
     "output_type": "execute_result"
    }
   ],
   "source": [
    "population = Table().with_columns(\n",
    "    \"Population\", population_amounts,\n",
    "    \"Year\", years\n",
    ")\n",
    "population"
   ]
  },
  {
   "cell_type": "markdown",
   "metadata": {},
   "source": [
    "Now the data are all together in a single table! It's much easier to parse this data--if you need to know what the population was in 1959, for example, you can tell from a single glance. We'll revisit this table later."
   ]
  },
  {
   "cell_type": "markdown",
   "metadata": {},
   "source": [
    "## 2. Creating Tables\n",
    "\n",
    "**Question 2.1.** <br/> In the cell below, we've created 2 arrays. Using the steps above, assign `top_10_movies` to a table that has two columns called \"Rating\" and \"Name\", which hold `top_10_movie_ratings` and `top_10_movie_names` respectively."
   ]
  },
  {
   "cell_type": "code",
   "execution_count": 5,
   "metadata": {},
   "outputs": [
    {
     "data": {
      "text/plain": [
       "Ellipsis"
      ]
     },
     "execution_count": 5,
     "metadata": {},
     "output_type": "execute_result"
    }
   ],
   "source": [
    "top_10_movie_ratings = make_array(9.2, 9.2, 9., 8.9, 8.9, 8.9, 8.9, 8.9, 8.9, 8.8)\n",
    "top_10_movie_names = make_array(\n",
    "        'The Shawshank Redemption (1994)',\n",
    "        'The Godfather (1972)',\n",
    "        'The Godfather: Part II (1974)',\n",
    "        'Pulp Fiction (1994)',\n",
    "        \"Schindler's List (1993)\",\n",
    "        'The Lord of the Rings: The Return of the King (2003)',\n",
    "        '12 Angry Men (1957)',\n",
    "        'The Dark Knight (2008)',\n",
    "        'Il buono, il brutto, il cattivo (1966)',\n",
    "        'The Lord of the Rings: The Fellowship of the Ring (2001)')\n",
    "\n",
    "top_10_movies = ...\n",
    "# We've put this next line here so your table will get printed out when you\n",
    "# run this cell.\n",
    "top_10_movies"
   ]
  },
  {
   "cell_type": "code",
   "execution_count": 6,
   "metadata": {},
   "outputs": [
    {
     "data": {
      "text/html": [
       "\n",
       "    \n",
       "    \n",
       "        <p>0 of 1 tests passed</p>\n",
       "        \n",
       "        \n",
       "        <p> <strong>Tests failed: </strong>\n",
       "            <ul>\n",
       "            \n",
       "                <li> \n",
       "    <p><strong style='color: red;'>tests/q2_1.py</strong></p>\n",
       "\n",
       "    <p><strong>Test code:</strong><pre><div class=\"highlight\" style=\"background: #f8f8f8\"><pre style=\"line-height: 125%\"><span></span><span style=\"color: #000080; font-weight: bold\">&gt;&gt;&gt; </span><span style=\"color: #008000\">type</span>(top_10_movies) <span style=\"color: #666666\">==</span> tables<span style=\"color: #666666\">.</span>Table\n",
       "<span style=\"color: #888888\">True</span>\n",
       "<span style=\"color: #000080; font-weight: bold\">&gt;&gt;&gt; </span>top_10_movies<span style=\"color: #666666\">.</span>select(<span style=\"color: #BA2121\">&#39;Rating&#39;</span>, <span style=\"color: #BA2121\">&#39;Name&#39;</span>)<span style=\"color: #666666\">.</span>sort(<span style=\"color: #BA2121\">&#39;Name&#39;</span>)\n",
       "<span style=\"color: #888888\">Rating | Name</span>\n",
       "<span style=\"color: #888888\">8.9    | 12 Angry Men (1957)</span>\n",
       "<span style=\"color: #888888\">8.9    | Il buono, il brutto, il cattivo (1966)</span>\n",
       "<span style=\"color: #888888\">8.9    | Pulp Fiction (1994)</span>\n",
       "<span style=\"color: #888888\">8.9    | Schindler&#39;s List (1993)</span>\n",
       "<span style=\"color: #888888\">8.9    | The Dark Knight (2008)</span>\n",
       "<span style=\"color: #888888\">9.2    | The Godfather (1972)</span>\n",
       "<span style=\"color: #888888\">9      | The Godfather: Part II (1974)</span>\n",
       "<span style=\"color: #888888\">8.8    | The Lord of the Rings: The Fellowship of the Ring (2001)</span>\n",
       "<span style=\"color: #888888\">8.9    | The Lord of the Rings: The Return of the King (2003)</span>\n",
       "<span style=\"color: #888888\">9.2    | The Shawshank Redemption (1994)</span>\n",
       "</pre></div>\n",
       "</pre></p>\n",
       "\n",
       "    <p><strong>Test result:</strong><pre>Trying:\n",
       "    type(top_10_movies) == tables.Table\n",
       "Expecting:\n",
       "    True\n",
       "**********************************************************************\n",
       "Line 2, in tests/q2_1.py 0\n",
       "Failed example:\n",
       "    type(top_10_movies) == tables.Table\n",
       "Expected:\n",
       "    True\n",
       "Got:\n",
       "    False\n",
       "Trying:\n",
       "    top_10_movies.select('Rating', 'Name').sort('Name')\n",
       "Expecting:\n",
       "    Rating | Name\n",
       "    8.9    | 12 Angry Men (1957)\n",
       "    8.9    | Il buono, il brutto, il cattivo (1966)\n",
       "    8.9    | Pulp Fiction (1994)\n",
       "    8.9    | Schindler's List (1993)\n",
       "    8.9    | The Dark Knight (2008)\n",
       "    9.2    | The Godfather (1972)\n",
       "    9      | The Godfather: Part II (1974)\n",
       "    8.8    | The Lord of the Rings: The Fellowship of the Ring (2001)\n",
       "    8.9    | The Lord of the Rings: The Return of the King (2003)\n",
       "    9.2    | The Shawshank Redemption (1994)\n",
       "**********************************************************************\n",
       "Line 4, in tests/q2_1.py 0\n",
       "Failed example:\n",
       "    top_10_movies.select('Rating', 'Name').sort('Name')\n",
       "Exception raised:\n",
       "    Traceback (most recent call last):\n",
       "      File \"/srv/conda/envs/notebook/lib/python3.7/doctest.py\", line 1329, in __run\n",
       "        compileflags, 1), test.globs)\n",
       "      File \"<doctest tests/q2_1.py 0[1]>\", line 1, in <module>\n",
       "        top_10_movies.select('Rating', 'Name').sort('Name')\n",
       "    AttributeError: 'ellipsis' object has no attribute 'select'\n",
       "</pre></p>\n",
       "     </li>\n",
       "            \n",
       "            </ul>\n",
       "        \n",
       "    \n",
       "    "
      ],
      "text/plain": [
       "<gofer.ok.OKTestsResult at 0x7f15f75e5b00>"
      ]
     },
     "execution_count": 6,
     "metadata": {},
     "output_type": "execute_result"
    }
   ],
   "source": [
    "check('tests/q2_1.py')"
   ]
  },
  {
   "cell_type": "markdown",
   "metadata": {},
   "source": [
    "#### Loading a table from a file\n",
    "In most cases, we aren't going to go through the trouble of typing in all the data manually. Instead, we can use our `Table` functions.\n",
    "\n",
    "`Table.read_table` takes one argument, a path to a data file (a string) and returns a table.  There are many formats for data files, but CSV (\"comma-separated values\") is the most common.\n",
    "\n",
    "**Question 2.2.** <br/>The file `imdb.csv` contains a table of information about the 250 highest-rated movies on IMDb.  Load it as a table called `imdb`."
   ]
  },
  {
   "cell_type": "code",
   "execution_count": 7,
   "metadata": {},
   "outputs": [
    {
     "data": {
      "text/plain": [
       "Ellipsis"
      ]
     },
     "execution_count": 7,
     "metadata": {},
     "output_type": "execute_result"
    }
   ],
   "source": [
    "imdb = ...\n",
    "imdb"
   ]
  },
  {
   "cell_type": "code",
   "execution_count": 8,
   "metadata": {},
   "outputs": [
    {
     "data": {
      "text/html": [
       "\n",
       "    \n",
       "    \n",
       "        <p>0 of 1 tests passed</p>\n",
       "        \n",
       "        \n",
       "        <p> <strong>Tests failed: </strong>\n",
       "            <ul>\n",
       "            \n",
       "                <li> \n",
       "    <p><strong style='color: red;'>tests/q2_2.py</strong></p>\n",
       "\n",
       "    <p><strong>Test code:</strong><pre><div class=\"highlight\" style=\"background: #f8f8f8\"><pre style=\"line-height: 125%\"><span></span><span style=\"color: #000080; font-weight: bold\">&gt;&gt;&gt; </span><span style=\"color: #008000\">type</span>(imdb) <span style=\"color: #666666\">==</span> tables<span style=\"color: #666666\">.</span>Table\n",
       "<span style=\"color: #888888\">True</span>\n",
       "<span style=\"color: #000080; font-weight: bold\">&gt;&gt;&gt; </span>imdb<span style=\"color: #666666\">.</span>num_rows <span style=\"color: #666666\">==</span> <span style=\"color: #666666\">250</span>\n",
       "<span style=\"color: #888888\">True</span>\n",
       "<span style=\"color: #000080; font-weight: bold\">&gt;&gt;&gt; </span>imdb<span style=\"color: #666666\">.</span>select(<span style=\"color: #BA2121\">&#39;Votes&#39;</span>, <span style=\"color: #BA2121\">&#39;Rating&#39;</span>, <span style=\"color: #BA2121\">&#39;Title&#39;</span>, <span style=\"color: #BA2121\">&#39;Year&#39;</span>, <span style=\"color: #BA2121\">&#39;Decade&#39;</span>)<span style=\"color: #666666\">.</span>sort(<span style=\"color: #666666\">0</span>)<span style=\"color: #666666\">.</span>take(<span style=\"color: #008000\">range</span>(<span style=\"color: #666666\">2</span>,<span style=\"color: #666666\">5</span>))\n",
       "<span style=\"color: #888888\">Votes | Rating | Title                       | Year | Decade</span>\n",
       "<span style=\"color: #888888\">31003 | 8.1    | Le salaire de la peur       | 1953 | 1950</span>\n",
       "<span style=\"color: #888888\">32385 | 8      | La battaglia di Algeri      | 1966 | 1960</span>\n",
       "<span style=\"color: #888888\">35983 | 8.1    | The Best Years of Our Lives | 1946 | 1940</span>\n",
       "</pre></div>\n",
       "</pre></p>\n",
       "\n",
       "    <p><strong>Test result:</strong><pre>Trying:\n",
       "    type(imdb) == tables.Table\n",
       "Expecting:\n",
       "    True\n",
       "**********************************************************************\n",
       "Line 2, in tests/q2_2.py 0\n",
       "Failed example:\n",
       "    type(imdb) == tables.Table\n",
       "Expected:\n",
       "    True\n",
       "Got:\n",
       "    False\n",
       "Trying:\n",
       "    imdb.num_rows == 250\n",
       "Expecting:\n",
       "    True\n",
       "**********************************************************************\n",
       "Line 4, in tests/q2_2.py 0\n",
       "Failed example:\n",
       "    imdb.num_rows == 250\n",
       "Exception raised:\n",
       "    Traceback (most recent call last):\n",
       "      File \"/srv/conda/envs/notebook/lib/python3.7/doctest.py\", line 1329, in __run\n",
       "        compileflags, 1), test.globs)\n",
       "      File \"<doctest tests/q2_2.py 0[1]>\", line 1, in <module>\n",
       "        imdb.num_rows == 250\n",
       "    AttributeError: 'ellipsis' object has no attribute 'num_rows'\n",
       "Trying:\n",
       "    imdb.select('Votes', 'Rating', 'Title', 'Year', 'Decade').sort(0).take(range(2,5))\n",
       "Expecting:\n",
       "    Votes | Rating | Title                       | Year | Decade\n",
       "    31003 | 8.1    | Le salaire de la peur       | 1953 | 1950\n",
       "    32385 | 8      | La battaglia di Algeri      | 1966 | 1960\n",
       "    35983 | 8.1    | The Best Years of Our Lives | 1946 | 1940\n",
       "**********************************************************************\n",
       "Line 6, in tests/q2_2.py 0\n",
       "Failed example:\n",
       "    imdb.select('Votes', 'Rating', 'Title', 'Year', 'Decade').sort(0).take(range(2,5))\n",
       "Exception raised:\n",
       "    Traceback (most recent call last):\n",
       "      File \"/srv/conda/envs/notebook/lib/python3.7/doctest.py\", line 1329, in __run\n",
       "        compileflags, 1), test.globs)\n",
       "      File \"<doctest tests/q2_2.py 0[2]>\", line 1, in <module>\n",
       "        imdb.select('Votes', 'Rating', 'Title', 'Year', 'Decade').sort(0).take(range(2,5))\n",
       "    AttributeError: 'ellipsis' object has no attribute 'select'\n",
       "</pre></p>\n",
       "     </li>\n",
       "            \n",
       "            </ul>\n",
       "        \n",
       "    \n",
       "    "
      ],
      "text/plain": [
       "<gofer.ok.OKTestsResult at 0x7f15dc8cf908>"
      ]
     },
     "execution_count": 8,
     "metadata": {},
     "output_type": "execute_result"
    }
   ],
   "source": [
    "check('tests/q2_2.py')"
   ]
  },
  {
   "cell_type": "markdown",
   "metadata": {},
   "source": [
    "Notice the part about \"... (240 rows omitted).\"  This table is big enough that only a few of its rows are displayed, but the others are still there.  10 are shown, so there are 250 movies total.\n",
    "\n",
    "Where did `imdb.csv` come from? Take a look at [this lab's folder](./). You should see a file called `imdb.csv`.\n",
    "\n",
    "Open up the `imdb.csv` file in that folder and look at the format. What do you notice? The `.csv` filename ending says that this file is in the [CSV (comma-separated value) format](http://edoceo.com/utilitas/csv-file-format)."
   ]
  },
  {
   "cell_type": "markdown",
   "metadata": {},
   "source": [
    "## 3. Using lists\n",
    "\n",
    "A *list* is another Python sequence type, similar to an array. It's different than an array because the values it contains can all have different types. A single list can contain `int` values, `float` values, and strings. Elements in a list can even be other lists! A list is created by giving a name to the list of values enclosed in square brackets and separated by commas. For example, `values_with_different_types = ['data', 8, 8.1]`\n",
    "\n",
    "Lists can be useful when working with tables because they can describe the contents of one row in a table, which often  corresponds to a sequence of values with different types. A list of lists can be used to describe multiple rows.\n",
    "\n",
    "Each column in a table is a collection of values with the same type (an array). If you create a table column from a list, it will automatically be converted to an array. A row, on the ther hand, mixes types.\n",
    "\n",
    "Here's a table from Chapter 5. (Run the cell below.)"
   ]
  },
  {
   "cell_type": "code",
   "execution_count": 9,
   "metadata": {},
   "outputs": [
    {
     "data": {
      "text/html": [
       "<table border=\"1\" class=\"dataframe\">\n",
       "    <thead>\n",
       "        <tr>\n",
       "            <th>Number of petals</th> <th>Name</th>\n",
       "        </tr>\n",
       "    </thead>\n",
       "    <tbody>\n",
       "        <tr>\n",
       "            <td>8               </td> <td>lotus    </td>\n",
       "        </tr>\n",
       "        <tr>\n",
       "            <td>34              </td> <td>sunflower</td>\n",
       "        </tr>\n",
       "        <tr>\n",
       "            <td>5               </td> <td>rose     </td>\n",
       "        </tr>\n",
       "    </tbody>\n",
       "</table>"
      ],
      "text/plain": [
       "Number of petals | Name\n",
       "8                | lotus\n",
       "34               | sunflower\n",
       "5                | rose"
      ]
     },
     "execution_count": 9,
     "metadata": {},
     "output_type": "execute_result"
    }
   ],
   "source": [
    "# Run this cell to recreate the table\n",
    "flowers = Table().with_columns(\n",
    "    'Number of petals', make_array(8, 34, 5),\n",
    "    'Name', make_array('lotus', 'sunflower', 'rose')\n",
    ")\n",
    "flowers"
   ]
  },
  {
   "cell_type": "markdown",
   "metadata": {},
   "source": [
    "**Question 3.1.** <br/>Create a list that describes a new fourth row of this table. The details can be whatever you want, but the list must contain two values: the number of petals (an `int` value) and the name of the flower (a string). For example, your flower could be \"pondweed\"! (A flower with zero petals)"
   ]
  },
  {
   "cell_type": "code",
   "execution_count": null,
   "metadata": {},
   "outputs": [],
   "source": [
    "my_flower = ...\n",
    "my_flower"
   ]
  },
  {
   "cell_type": "code",
   "execution_count": null,
   "metadata": {},
   "outputs": [],
   "source": [
    "check('tests/q3_1.py')"
   ]
  },
  {
   "cell_type": "markdown",
   "metadata": {},
   "source": [
    "**Question 3.2.** <br/>`my_flower` fits right in to the table from chapter 5. Complete the cell below to create a table of seven flowers that includes your flower as the fourth row followed by `other_flowers`. You can use `with_row` to create a new table with one extra row by passing a list of values and `with_rows` to create a table with multiple extra rows by passing a list of lists of values."
   ]
  },
  {
   "cell_type": "code",
   "execution_count": null,
   "metadata": {},
   "outputs": [],
   "source": [
    "# Use the method .with_row(...) to create a new table that includes my_flower \n",
    "\n",
    "four_flowers = ...\n",
    "\n",
    "# Use the method .with_rows(...) to create a table that \n",
    "# includes four_flowers followed by other_flowers\n",
    "\n",
    "other_flowers = [[10, 'lavender'], [3, 'birds of paradise'], [6, 'tulip']]\n",
    "\n",
    "seven_flowers = ...\n",
    "seven_flowers"
   ]
  },
  {
   "cell_type": "code",
   "execution_count": null,
   "metadata": {},
   "outputs": [],
   "source": [
    "check('tests/q3_2.py')"
   ]
  },
  {
   "cell_type": "markdown",
   "metadata": {},
   "source": [
    "## 4. Analyzing datasets\n",
    "With just a few table methods, we can answer some interesting questions about the IMDb dataset.\n",
    "\n",
    "If we want just the ratings of the movies, we can get an array that contains the data in that column:"
   ]
  },
  {
   "cell_type": "code",
   "execution_count": null,
   "metadata": {},
   "outputs": [],
   "source": [
    "imdb.column(\"Rating\")"
   ]
  },
  {
   "cell_type": "markdown",
   "metadata": {},
   "source": [
    "The value of that expression is an array, exactly the same kind of thing you'd get if you typed in `make_array(8.4, 8.3, 8.3, [etc])`.\n",
    "\n",
    "**Question 4.1.** <br/>Find the rating of the highest-rated movie in the dataset.\n",
    "\n",
    "*Hint:* Think back to the functions you've learned about for working with arrays of numbers.  Ask for help if you can't remember one that's useful for this."
   ]
  },
  {
   "cell_type": "code",
   "execution_count": null,
   "metadata": {},
   "outputs": [],
   "source": [
    "highest_rating = ...\n",
    "highest_rating"
   ]
  },
  {
   "cell_type": "code",
   "execution_count": null,
   "metadata": {},
   "outputs": [],
   "source": [
    "check('tests/q4_1.py')"
   ]
  },
  {
   "cell_type": "markdown",
   "metadata": {},
   "source": [
    "That's not very useful, though.  You'd probably want to know the *name* of the movie whose rating you found!  To do that, we can sort the entire table by rating, which ensures that the ratings and titles will stay together. Note that calling sort creates a copy of the table and leaves the original table unsorted."
   ]
  },
  {
   "cell_type": "code",
   "execution_count": null,
   "metadata": {},
   "outputs": [],
   "source": [
    "imdb.sort(\"Rating\")"
   ]
  },
  {
   "cell_type": "markdown",
   "metadata": {},
   "source": [
    "Well, that actually doesn't help much, either -- we sorted the movies from lowest -> highest ratings.  To look at the highest-rated movies, sort in reverse order:"
   ]
  },
  {
   "cell_type": "code",
   "execution_count": null,
   "metadata": {},
   "outputs": [],
   "source": [
    "imdb.sort(\"Rating\", descending=True)"
   ]
  },
  {
   "cell_type": "markdown",
   "metadata": {},
   "source": [
    "(The `descending=True` bit is called an *optional argument*. It has a default value of `False`, so when you explicitly tell the function `descending=True`, then the function will sort in descending order.)\n",
    "\n",
    "So there are actually 2 highest-rated movies in the dataset: *The Shawshank Redemption* and *The Godfather*.\n",
    "\n",
    "Some details about sort:\n",
    "\n",
    "1. The first argument to `sort` is the name of a column to sort by.\n",
    "2. If the column has strings in it, `sort` will sort alphabetically; if the column has numbers, it will sort numerically.\n",
    "3. The value of `imdb.sort(\"Rating\")` is a *copy of `imdb`*; the `imdb` table doesn't get modified. For example, if we called `imdb.sort(\"Rating\")`, then running `imdb` by itself would still return the unsorted table.\n",
    "4. Rows always stick together when a table is sorted.  It wouldn't make sense to sort just one column and leave the other columns alone.  For example, in this case, if we sorted just the \"Rating\" column, the movies would all end up with the wrong ratings.\n",
    "\n",
    "**Question 4.2.** <br/>Create a version of `imdb` that's sorted chronologically, with the earliest movies first.  Call it `imdb_by_year`."
   ]
  },
  {
   "cell_type": "code",
   "execution_count": null,
   "metadata": {},
   "outputs": [],
   "source": [
    "imdb_by_year = ...\n",
    "imdb_by_year"
   ]
  },
  {
   "cell_type": "code",
   "execution_count": null,
   "metadata": {},
   "outputs": [],
   "source": [
    "check('tests/q4_2.py')"
   ]
  },
  {
   "cell_type": "markdown",
   "metadata": {},
   "source": [
    "**Question 4.3.** <br/>What's the title of the earliest movie in the dataset?  You could just look this up from the output of the previous cell.  Instead, write Python code to find out.\n",
    "\n",
    "*Hint:* Starting with `imdb_by_year`, extract the Title column to get an array, then use `item` to get its first item."
   ]
  },
  {
   "cell_type": "code",
   "execution_count": null,
   "metadata": {},
   "outputs": [],
   "source": [
    "earliest_movie_title = ...\n",
    "earliest_movie_title"
   ]
  },
  {
   "cell_type": "code",
   "execution_count": null,
   "metadata": {},
   "outputs": [],
   "source": [
    "check('tests/q4_3.py')"
   ]
  },
  {
   "cell_type": "markdown",
   "metadata": {},
   "source": [
    "## 5. Finding pieces of a dataset\n",
    "Suppose you're interested in movies from the 1940s.  Sorting the table by year doesn't help you, because the 1940s are in the middle of the dataset.\n",
    "\n",
    "Instead, we use the table method `where`."
   ]
  },
  {
   "cell_type": "code",
   "execution_count": null,
   "metadata": {},
   "outputs": [],
   "source": [
    "forties = imdb.where('Decade', are.equal_to(1940))\n",
    "forties"
   ]
  },
  {
   "cell_type": "markdown",
   "metadata": {},
   "source": [
    "Ignore the syntax for the moment.  Instead, try to read that line like this:\n",
    "\n",
    "> Assign the name **`forties`** to a table whose rows are the rows in the **`imdb`** table **`where`** the **`'Decade'`**s **`are` `equal` `to` `1940`**.\n",
    "\n",
    "**Question 5.1.** <br/>Compute the average rating of movies from the 1940s.\n",
    "\n",
    "*Hint:* The function `np.average` computes the average of an array of numbers."
   ]
  },
  {
   "cell_type": "code",
   "execution_count": null,
   "metadata": {},
   "outputs": [],
   "source": [
    "average_rating_in_forties = ...\n",
    "average_rating_in_forties"
   ]
  },
  {
   "cell_type": "code",
   "execution_count": null,
   "metadata": {},
   "outputs": [],
   "source": [
    "check('tests/q5_1.py')"
   ]
  },
  {
   "cell_type": "markdown",
   "metadata": {},
   "source": [
    "Now let's dive into the details a bit more.  `where` takes 2 arguments:\n",
    "\n",
    "1. The name of a column.  `where` finds rows where that column's values meet some criterion.\n",
    "2. Something that describes the criterion that the column needs to meet, called a predicate.\n",
    "\n",
    "To create our predicate, we called the function `are.equal_to` with the value we wanted, 1940.  We'll see other predicates soon.\n",
    "\n",
    "`where` returns a table that's a copy of the original table, but with only the rows that meet the given predicate.\n",
    "\n",
    "**Question 5.2.**<br/> Create a table called `ninety_nine` containing the movies that came out in the year 1999.  Use `where`."
   ]
  },
  {
   "cell_type": "code",
   "execution_count": null,
   "metadata": {},
   "outputs": [],
   "source": [
    "ninety_nine = ...\n",
    "ninety_nine"
   ]
  },
  {
   "cell_type": "code",
   "execution_count": null,
   "metadata": {},
   "outputs": [],
   "source": [
    "check('tests/q5_2.py')"
   ]
  },
  {
   "cell_type": "markdown",
   "metadata": {},
   "source": [
    "So far we've only been finding where a column is *exactly* equal to a certain value. However, there are many other predicates.  Here are a few:\n",
    "\n",
    "|Predicate|Example|Result|\n",
    "|-|-|-|\n",
    "|`are.equal_to`|`are.equal_to(50)`|Find rows with values equal to 50|\n",
    "|`are.not_equal_to`|`are.not_equal_to(50)`|Find rows with values not equal to 50|\n",
    "|`are.above`|`are.above(50)`|Find rows with values above (and not equal to) 50|\n",
    "|`are.above_or_equal_to`|`are.above_or_equal_to(50)`|Find rows with values above 50 or equal to 50|\n",
    "|`are.below`|`are.below(50)`|Find rows with values below 50|\n",
    "|`are.between`|`are.between(2, 10)`|Find rows with values above or equal to 2 and below 10|\n",
    "\n",
    "The textbook section on selecting rows has more examples.\n"
   ]
  },
  {
   "cell_type": "markdown",
   "metadata": {},
   "source": [
    "**Question 5.3.** <br/>Using `where` and one of the predicates from the table above, find all the movies with a rating higher than 8.5.  Put their data in a table called `really_highly_rated`."
   ]
  },
  {
   "cell_type": "code",
   "execution_count": null,
   "metadata": {},
   "outputs": [],
   "source": [
    "really_highly_rated = ...\n",
    "really_highly_rated"
   ]
  },
  {
   "cell_type": "code",
   "execution_count": null,
   "metadata": {},
   "outputs": [],
   "source": [
    "check('tests/q5_3.py')"
   ]
  },
  {
   "cell_type": "markdown",
   "metadata": {},
   "source": [
    "**Question 5.4.** <br/>Find the average rating for movies released in the 20th century and the average rating for movies released in the 21st century for the movies in `imdb`.\n",
    "\n",
    "*Hint*: Think of the steps you need to do (take the average, find the ratings, find movies released in 20th/21st centuries), and try to put them in an order that makes sense."
   ]
  },
  {
   "cell_type": "code",
   "execution_count": null,
   "metadata": {},
   "outputs": [],
   "source": [
    "average_20th_century_rating = ...\n",
    "average_21st_century_rating = ...\n",
    "print(\"Average 20th century rating:\", average_20th_century_rating)\n",
    "print(\"Average 21st century rating:\", average_21st_century_rating)"
   ]
  },
  {
   "cell_type": "code",
   "execution_count": null,
   "metadata": {},
   "outputs": [],
   "source": [
    "check('tests/q5_4.py')"
   ]
  },
  {
   "cell_type": "markdown",
   "metadata": {},
   "source": [
    "The property `num_rows` tells you how many rows are in a table.  (A \"property\" is just a method that doesn't need to be called by adding parentheses.)"
   ]
  },
  {
   "cell_type": "code",
   "execution_count": null,
   "metadata": {},
   "outputs": [],
   "source": [
    "num_movies_in_dataset = imdb.num_rows\n",
    "num_movies_in_dataset"
   ]
  },
  {
   "cell_type": "markdown",
   "metadata": {},
   "source": [
    "**Question 5.5.** <br/>Use `num_rows` (and arithmetic) to find the *proportion* of movies in the dataset that were released in the 20th century, and the proportion from the 21st century.\n",
    "\n",
    "*Hint:* The *proportion* of movies released in the 20th century is the *number* of movies released in the 20th century, divided by the *total number* of movies."
   ]
  },
  {
   "cell_type": "code",
   "execution_count": null,
   "metadata": {},
   "outputs": [],
   "source": [
    "proportion_in_20th_century = ...\n",
    "proportion_in_21st_century = ...\n",
    "print(\"Proportion in 20th century:\", proportion_in_20th_century)\n",
    "print(\"Proportion in 21st century:\", proportion_in_21st_century)"
   ]
  },
  {
   "cell_type": "code",
   "execution_count": null,
   "metadata": {},
   "outputs": [],
   "source": [
    "check('tests/q5_5.py')"
   ]
  },
  {
   "cell_type": "markdown",
   "metadata": {},
   "source": [
    "**Question 5.6.** <br/>Here's a challenge: Find the number of movies that came out in *even* years.\n",
    "\n",
    "*Hint:* The operator `%` computes the remainder when dividing by a number.  So `5 % 2` is 1 and `6 % 2` is 0.  A number is even if the remainder is 0 when you divide by 2.\n",
    "\n",
    "*Hint 2:* `%` can be used on arrays, operating elementwise like `+` or `*`.  So `make_array(5, 6, 7) % 2` is `array([1, 0, 1])`.\n",
    "\n",
    "*Hint 3:* Create a column called \"Year Remainder\" that's the remainder when each movie's release year is divided by 2.  Make a copy of `imdb` that includes that column.  Then use `where` to find rows where that new column is equal to 0.  Then use `num_rows` to count the number of such rows."
   ]
  },
  {
   "cell_type": "code",
   "execution_count": null,
   "metadata": {
    "for_assignment_type": "student"
   },
   "outputs": [],
   "source": [
    "num_even_year_movies = ...\n",
    "num_even_year_movies"
   ]
  },
  {
   "cell_type": "code",
   "execution_count": null,
   "metadata": {},
   "outputs": [],
   "source": [
    "check('tests/q5_6.py')"
   ]
  },
  {
   "cell_type": "markdown",
   "metadata": {},
   "source": [
    "**Question 5.7.** <br/>Check out the `population` table from the introduction to this lab.  Compute the year when the world population first went above 6 billion."
   ]
  },
  {
   "cell_type": "code",
   "execution_count": null,
   "metadata": {},
   "outputs": [],
   "source": [
    "year_population_crossed_6_billion = ...\n",
    "year_population_crossed_6_billion"
   ]
  },
  {
   "cell_type": "code",
   "execution_count": null,
   "metadata": {},
   "outputs": [],
   "source": [
    "check('tests/q5_7.py')"
   ]
  },
  {
   "cell_type": "markdown",
   "metadata": {},
   "source": [
    "## 6. Miscellanea\n",
    "There are a few more table methods you'll need to fill out your toolbox.  The first 3 have to do with manipulating the columns in a table.\n",
    "\n",
    "The table `farmers_markets.csv` contains data on farmers' markets in the United States  (data collected [by the USDA]([dataset](https://apps.ams.usda.gov/FarmersMarketsExport/ExcelExport.aspx)).  Each row represents one such market.\n",
    "\n",
    "**Question 6.1.** <br/>Load the dataset into a table.  Call it `farmers_markets`."
   ]
  },
  {
   "cell_type": "code",
   "execution_count": null,
   "metadata": {},
   "outputs": [],
   "source": [
    "farmers_markets = ...\n",
    "farmers_markets"
   ]
  },
  {
   "cell_type": "code",
   "execution_count": null,
   "metadata": {},
   "outputs": [],
   "source": [
    "check('tests/q6_1.py')"
   ]
  },
  {
   "cell_type": "markdown",
   "metadata": {},
   "source": [
    "You'll notice that it has a large number of columns in it!\n",
    "\n",
    "### `num_columns`\n",
    "\n",
    "**Question 6.2.**<br/> The table property `num_columns` (example call: `tbl.num_columns`) produces the number of columns in a table.  Use it to find the number of columns in our farmers' markets dataset."
   ]
  },
  {
   "cell_type": "code",
   "execution_count": null,
   "metadata": {},
   "outputs": [],
   "source": [
    "num_farmers_markets_columns = ...\n",
    "print(\"The table has\", num_farmers_markets_columns, \"columns in it!\")"
   ]
  },
  {
   "cell_type": "code",
   "execution_count": null,
   "metadata": {},
   "outputs": [],
   "source": [
    "check('tests/q6_2.py')"
   ]
  },
  {
   "cell_type": "markdown",
   "metadata": {},
   "source": [
    "Most of the columns are about particular products -- whether the market sells tofu, pet food, etc.  If we're not interested in that stuff, it just makes the table difficult to read.  This comes up more than you might think.\n",
    "\n",
    "### `select`\n",
    "\n",
    "In such situations, we can use the table method `select` to pare down the columns of a table.  It takes any number of arguments.  Each should be the name or index of a column in the table.  It returns a new table with only those columns in it.\n",
    "\n",
    "For example, the value of `imdb.select(\"Year\", \"Decade\")` is a table with only the years and decades of each movie in `imdb`.\n",
    "\n",
    "**Question 6.3.**<br/> Use `select` to create a table with only the name, city, state, latitude ('y'), and longitude ('x') of each market.  Call that new table `farmers_markets_locations`."
   ]
  },
  {
   "cell_type": "code",
   "execution_count": null,
   "metadata": {},
   "outputs": [],
   "source": [
    "farmers_markets_locations = ...\n",
    "farmers_markets_locations"
   ]
  },
  {
   "cell_type": "code",
   "execution_count": null,
   "metadata": {},
   "outputs": [],
   "source": [
    "check('tests/q6_3.py')"
   ]
  },
  {
   "cell_type": "markdown",
   "metadata": {},
   "source": [
    "### `select` is not `column`!\n",
    "\n",
    "The method `select` is **definitely not** the same as the method `column`.\n",
    "\n",
    "`farmers_markets.column('y')` is an *array* of the latitudes of all the markets.  `farmers_markets.select('y')` is a *table* that happens to contain only 1 column, the latitudes of all the markets.\n",
    "\n",
    "**Question 6.4.** <br/>Below, we tried using the function `np.average` to find the average latitude ('y') and average longitude ('x') of the farmers' markets in the table, but we screwed something up.  Run the cell to see the (somewhat inscrutable) error message that results from calling `np.average` on a table.  Then, fix our code."
   ]
  },
  {
   "cell_type": "code",
   "execution_count": null,
   "metadata": {
    "for_assignment_type": "student"
   },
   "outputs": [],
   "source": [
    "average_latitude = np.average(farmers_markets.select('y'))\n",
    "average_longitude = np.average(farmers_markets.select('x'))\n",
    "print(\"The average of US farmers' markets' coordinates is located at (\", average_latitude, \",\", average_longitude, \")\")"
   ]
  },
  {
   "cell_type": "code",
   "execution_count": null,
   "metadata": {},
   "outputs": [],
   "source": [
    "check('tests/q6_4.py')"
   ]
  },
  {
   "cell_type": "markdown",
   "metadata": {},
   "source": [
    "### `drop`\n",
    "\n",
    "`drop` serves the same purpose as `select`, but it takes away the columns you list instead of the ones you don't list, leaving all the rest of the columns.\n",
    "\n",
    "**Question 6.5.** <br/>Suppose you just didn't want the \"FMID\" or \"updateTime\" columns in `farmers_markets`.  Create a table that's a copy of `farmers_markets` but doesn't include those columns.  Call that table `farmers_markets_without_fmid`."
   ]
  },
  {
   "cell_type": "code",
   "execution_count": null,
   "metadata": {},
   "outputs": [],
   "source": [
    "farmers_markets_without_fmid = ...\n",
    "farmers_markets_without_fmid"
   ]
  },
  {
   "cell_type": "code",
   "execution_count": null,
   "metadata": {},
   "outputs": [],
   "source": [
    "check('tests/q6_5.py')"
   ]
  },
  {
   "cell_type": "markdown",
   "metadata": {},
   "source": [
    "#### `take`\n",
    "Let's find the 5 northernmost farmers' markets in the US.  You already know how to sort by latitude ('y'), but we haven't seen how to get the first 5 rows of a table.  That's what `take` is for.\n",
    "\n",
    "The table method `take` takes as its argument an array of numbers.  Each number should be the index of a row in the table.  It returns a new table with only those rows.\n",
    "\n",
    "Most often you'll want to use `take` in conjunction with `np.arange` to take the first few rows of a table.\n",
    "\n",
    "**Question 6.6.** <br/>Make a table of the 5 northernmost farmers' markets in `farmers_markets_locations`.  Call it `northern_markets`.  (It should include the same columns as `farmers_markets_locations`."
   ]
  },
  {
   "cell_type": "code",
   "execution_count": null,
   "metadata": {},
   "outputs": [],
   "source": [
    "northern_markets = ...\n",
    "northern_markets"
   ]
  },
  {
   "cell_type": "code",
   "execution_count": null,
   "metadata": {},
   "outputs": [],
   "source": [
    "check('tests/q6_6.py')"
   ]
  },
  {
   "cell_type": "markdown",
   "metadata": {},
   "source": [
    "**Question 6.7.** <br/>Make a table of the farmers' markets in Berkeley, California.  (It should include the same columns as `farmers_markets_locations`.)"
   ]
  },
  {
   "cell_type": "code",
   "execution_count": null,
   "metadata": {},
   "outputs": [],
   "source": [
    "berkeley_markets = ...\n",
    "berkeley_markets"
   ]
  },
  {
   "cell_type": "code",
   "execution_count": null,
   "metadata": {},
   "outputs": [],
   "source": [
    "check('tests/q6_7.py')"
   ]
  },
  {
   "cell_type": "markdown",
   "metadata": {},
   "source": [
    "## 7. Summary\n",
    "\n",
    "For your reference, here's a table of all the functions and methods we saw in this lab.\n",
    "\n",
    "|Name|Example|Purpose|\n",
    "|-|-|-|\n",
    "|`Table`|`Table()`|Create an empty table, usually to extend with data|\n",
    "|`Table.read_table`|`Table.read_table(\"my_data.csv\")`|Create a table from a data file|\n",
    "|`with_columns`|`tbl = Table().with_columns(\"N\", np.arange(5), \"2*N\", np.arange(0, 10, 2))`|Create a copy of a table with more columns|\n",
    "|`column`|`tbl.column(\"N\")`|Create an array containing the elements of a column|\n",
    "|`sort`|`tbl.sort(\"N\")`|Create a copy of a table sorted by the values in a column|\n",
    "|`where`|`tbl.where(\"N\", are.above(2))`|Create a copy of a table with only the rows that match some *predicate*|\n",
    "|`num_rows`|`tbl.num_rows`|Compute the number of rows in a table|\n",
    "|`num_columns`|`tbl.num_columns`|Compute the number of columns in a table|\n",
    "|`select`|`tbl.select(\"N\")`|Create a copy of a table with only some of the columns|\n",
    "|`drop`|`tbl.drop(\"2*N\")`|Create a copy of a table without some of the columns|\n",
    "|`take`|`tbl.take(np.arange(0, 6, 2))`|Create a copy of the table with only the rows whose indices are in the given array|\n",
    "\n",
    "<br/>\n",
    "\n",
    "Congratulations, you're done with lab 3!  Be sure to \n",
    "- **run all the tests and verify that they all pass** (the next cell has a shortcut for that), \n",
    "- **Save and Checkpoint** from the `File` menu,\n",
    "- **Hit the Submit button** Your submission will be saved and grade will be posted when it's finished running."
   ]
  },
  {
   "cell_type": "code",
   "execution_count": 29,
   "metadata": {},
   "outputs": [
    {
     "name": "stdout",
     "output_type": "stream",
     "text": [
      "Population column: [2557628654 2594939877 2636772306 2682053389 2730228104 2782098943\n",
      " 2835299673 2891349717 2948137248 3000716593 3043001508 3083966929\n",
      " 3140093217 3209827882 3281201306 3350425793 3420677923 3490333715\n",
      " 3562313822 3637159050 3712697742 3790326948 3866568653 3942096442\n",
      " 4016608813 4089083233 4160185010 4232084578 4304105753 4379013942\n",
      " 4451362735 4534410125 4614566561 4695736743 4774569391 4856462699\n",
      " 4940571232 5027200492 5114557167 5201440110 5288955934 5371585922\n",
      " 5456136278 5538268316 5618682132 5699202985 5779440593 5857972543\n",
      " 5935213248 6012074922 6088571383 6165219247 6242016348 6318590956\n",
      " 6395699509 6473044732 6551263534 6629913759 6709049780 6788214394\n",
      " 6866332358 6944055583 7022349283 7101027895 7178722893 7256490011]\n",
      "Years column: [1950 1951 1952 1953 1954 1955 1956 1957 1958 1959 1960 1961 1962 1963\n",
      " 1964 1965 1966 1967 1968 1969 1970 1971 1972 1973 1974 1975 1976 1977\n",
      " 1978 1979 1980 1981 1982 1983 1984 1985 1986 1987 1988 1989 1990 1991\n",
      " 1992 1993 1994 1995 1996 1997 1998 1999 2000 2001 2002 2003 2004 2005\n",
      " 2006 2007 2008 2009 2010 2011 2012 2013 2014 2015]\n",
      "Average 20th century rating: Ellipsis\n",
      "Average 21st century rating: Ellipsis\n",
      "Proportion in 20th century: Ellipsis\n",
      "Proportion in 21st century: Ellipsis\n",
      "The table has Ellipsis columns in it!\n",
      "['tests/q2_1.py', 'tests/q2_2.py', 'tests/q3_1.py', 'tests/q3_2.py', 'tests/q4_1.py', 'tests/q4_2.py', 'tests/q4_3.py', 'tests/q5_1.py', 'tests/q5_2.py', 'tests/q5_3.py', 'tests/q5_4.py', 'tests/q5_5.py', 'tests/q5_6.py', 'tests/q5_7.py', 'tests/q6_1.py', 'tests/q6_2.py', 'tests/q6_3.py', 'tests/q6_4.py', 'tests/q6_5.py', 'tests/q6_6.py', 'tests/q6_7.py']\n",
      "Question 1:\n"
     ]
    },
    {
     "data": {
      "text/html": [
       "\n",
       "    \n",
       "    \n",
       "        <p>0 of 1 tests passed</p>\n",
       "        \n",
       "        \n",
       "        <p> <strong>Tests failed: </strong>\n",
       "            <ul>\n",
       "            \n",
       "                <li> \n",
       "    <p><strong style='color: red;'>tests/q2_1.py</strong></p>\n",
       "\n",
       "    <p><strong>Test code:</strong><pre><div class=\"highlight\" style=\"background: #f8f8f8\"><pre style=\"line-height: 125%\"><span></span><span style=\"color: #000080; font-weight: bold\">&gt;&gt;&gt; </span><span style=\"color: #008000\">type</span>(top_10_movies) <span style=\"color: #666666\">==</span> tables<span style=\"color: #666666\">.</span>Table\n",
       "<span style=\"color: #888888\">True</span>\n",
       "<span style=\"color: #000080; font-weight: bold\">&gt;&gt;&gt; </span>top_10_movies<span style=\"color: #666666\">.</span>select(<span style=\"color: #BA2121\">&#39;Rating&#39;</span>, <span style=\"color: #BA2121\">&#39;Name&#39;</span>)<span style=\"color: #666666\">.</span>sort(<span style=\"color: #BA2121\">&#39;Name&#39;</span>)\n",
       "<span style=\"color: #888888\">Rating | Name</span>\n",
       "<span style=\"color: #888888\">8.9    | 12 Angry Men (1957)</span>\n",
       "<span style=\"color: #888888\">8.9    | Il buono, il brutto, il cattivo (1966)</span>\n",
       "<span style=\"color: #888888\">8.9    | Pulp Fiction (1994)</span>\n",
       "<span style=\"color: #888888\">8.9    | Schindler&#39;s List (1993)</span>\n",
       "<span style=\"color: #888888\">8.9    | The Dark Knight (2008)</span>\n",
       "<span style=\"color: #888888\">9.2    | The Godfather (1972)</span>\n",
       "<span style=\"color: #888888\">9      | The Godfather: Part II (1974)</span>\n",
       "<span style=\"color: #888888\">8.8    | The Lord of the Rings: The Fellowship of the Ring (2001)</span>\n",
       "<span style=\"color: #888888\">8.9    | The Lord of the Rings: The Return of the King (2003)</span>\n",
       "<span style=\"color: #888888\">9.2    | The Shawshank Redemption (1994)</span>\n",
       "</pre></div>\n",
       "</pre></p>\n",
       "\n",
       "    <p><strong>Test result:</strong><pre>Trying:\n",
       "    type(top_10_movies) == tables.Table\n",
       "Expecting:\n",
       "    True\n",
       "**********************************************************************\n",
       "Line 2, in tests/q2_1.py 0\n",
       "Failed example:\n",
       "    type(top_10_movies) == tables.Table\n",
       "Expected:\n",
       "    True\n",
       "Got:\n",
       "    False\n",
       "Trying:\n",
       "    top_10_movies.select('Rating', 'Name').sort('Name')\n",
       "Expecting:\n",
       "    Rating | Name\n",
       "    8.9    | 12 Angry Men (1957)\n",
       "    8.9    | Il buono, il brutto, il cattivo (1966)\n",
       "    8.9    | Pulp Fiction (1994)\n",
       "    8.9    | Schindler's List (1993)\n",
       "    8.9    | The Dark Knight (2008)\n",
       "    9.2    | The Godfather (1972)\n",
       "    9      | The Godfather: Part II (1974)\n",
       "    8.8    | The Lord of the Rings: The Fellowship of the Ring (2001)\n",
       "    8.9    | The Lord of the Rings: The Return of the King (2003)\n",
       "    9.2    | The Shawshank Redemption (1994)\n",
       "**********************************************************************\n",
       "Line 4, in tests/q2_1.py 0\n",
       "Failed example:\n",
       "    top_10_movies.select('Rating', 'Name').sort('Name')\n",
       "Exception raised:\n",
       "    Traceback (most recent call last):\n",
       "      File \"/srv/conda/envs/notebook/lib/python3.7/doctest.py\", line 1329, in __run\n",
       "        compileflags, 1), test.globs)\n",
       "      File \"<doctest tests/q2_1.py 0[1]>\", line 1, in <module>\n",
       "        top_10_movies.select('Rating', 'Name').sort('Name')\n",
       "    AttributeError: 'ellipsis' object has no attribute 'select'\n",
       "</pre></p>\n",
       "     </li>\n",
       "            \n",
       "            </ul>\n",
       "        \n",
       "    \n",
       "    "
      ],
      "text/plain": [
       "<gofer.ok.OKTestsResult at 0x7f15dc17b518>"
      ]
     },
     "metadata": {},
     "output_type": "display_data"
    },
    {
     "name": "stdout",
     "output_type": "stream",
     "text": [
      "Question 2:\n"
     ]
    },
    {
     "data": {
      "text/html": [
       "\n",
       "    \n",
       "    \n",
       "        <p>0 of 1 tests passed</p>\n",
       "        \n",
       "        \n",
       "        <p> <strong>Tests failed: </strong>\n",
       "            <ul>\n",
       "            \n",
       "                <li> \n",
       "    <p><strong style='color: red;'>tests/q2_2.py</strong></p>\n",
       "\n",
       "    <p><strong>Test code:</strong><pre><div class=\"highlight\" style=\"background: #f8f8f8\"><pre style=\"line-height: 125%\"><span></span><span style=\"color: #000080; font-weight: bold\">&gt;&gt;&gt; </span><span style=\"color: #008000\">type</span>(imdb) <span style=\"color: #666666\">==</span> tables<span style=\"color: #666666\">.</span>Table\n",
       "<span style=\"color: #888888\">True</span>\n",
       "<span style=\"color: #000080; font-weight: bold\">&gt;&gt;&gt; </span>imdb<span style=\"color: #666666\">.</span>num_rows <span style=\"color: #666666\">==</span> <span style=\"color: #666666\">250</span>\n",
       "<span style=\"color: #888888\">True</span>\n",
       "<span style=\"color: #000080; font-weight: bold\">&gt;&gt;&gt; </span>imdb<span style=\"color: #666666\">.</span>select(<span style=\"color: #BA2121\">&#39;Votes&#39;</span>, <span style=\"color: #BA2121\">&#39;Rating&#39;</span>, <span style=\"color: #BA2121\">&#39;Title&#39;</span>, <span style=\"color: #BA2121\">&#39;Year&#39;</span>, <span style=\"color: #BA2121\">&#39;Decade&#39;</span>)<span style=\"color: #666666\">.</span>sort(<span style=\"color: #666666\">0</span>)<span style=\"color: #666666\">.</span>take(<span style=\"color: #008000\">range</span>(<span style=\"color: #666666\">2</span>,<span style=\"color: #666666\">5</span>))\n",
       "<span style=\"color: #888888\">Votes | Rating | Title                       | Year | Decade</span>\n",
       "<span style=\"color: #888888\">31003 | 8.1    | Le salaire de la peur       | 1953 | 1950</span>\n",
       "<span style=\"color: #888888\">32385 | 8      | La battaglia di Algeri      | 1966 | 1960</span>\n",
       "<span style=\"color: #888888\">35983 | 8.1    | The Best Years of Our Lives | 1946 | 1940</span>\n",
       "</pre></div>\n",
       "</pre></p>\n",
       "\n",
       "    <p><strong>Test result:</strong><pre>Trying:\n",
       "    type(imdb) == tables.Table\n",
       "Expecting:\n",
       "    True\n",
       "**********************************************************************\n",
       "Line 2, in tests/q2_2.py 0\n",
       "Failed example:\n",
       "    type(imdb) == tables.Table\n",
       "Expected:\n",
       "    True\n",
       "Got:\n",
       "    False\n",
       "Trying:\n",
       "    imdb.num_rows == 250\n",
       "Expecting:\n",
       "    True\n",
       "**********************************************************************\n",
       "Line 4, in tests/q2_2.py 0\n",
       "Failed example:\n",
       "    imdb.num_rows == 250\n",
       "Exception raised:\n",
       "    Traceback (most recent call last):\n",
       "      File \"/srv/conda/envs/notebook/lib/python3.7/doctest.py\", line 1329, in __run\n",
       "        compileflags, 1), test.globs)\n",
       "      File \"<doctest tests/q2_2.py 0[1]>\", line 1, in <module>\n",
       "        imdb.num_rows == 250\n",
       "    AttributeError: 'ellipsis' object has no attribute 'num_rows'\n",
       "Trying:\n",
       "    imdb.select('Votes', 'Rating', 'Title', 'Year', 'Decade').sort(0).take(range(2,5))\n",
       "Expecting:\n",
       "    Votes | Rating | Title                       | Year | Decade\n",
       "    31003 | 8.1    | Le salaire de la peur       | 1953 | 1950\n",
       "    32385 | 8      | La battaglia di Algeri      | 1966 | 1960\n",
       "    35983 | 8.1    | The Best Years of Our Lives | 1946 | 1940\n",
       "**********************************************************************\n",
       "Line 6, in tests/q2_2.py 0\n",
       "Failed example:\n",
       "    imdb.select('Votes', 'Rating', 'Title', 'Year', 'Decade').sort(0).take(range(2,5))\n",
       "Exception raised:\n",
       "    Traceback (most recent call last):\n",
       "      File \"/srv/conda/envs/notebook/lib/python3.7/doctest.py\", line 1329, in __run\n",
       "        compileflags, 1), test.globs)\n",
       "      File \"<doctest tests/q2_2.py 0[2]>\", line 1, in <module>\n",
       "        imdb.select('Votes', 'Rating', 'Title', 'Year', 'Decade').sort(0).take(range(2,5))\n",
       "    AttributeError: 'ellipsis' object has no attribute 'select'\n",
       "</pre></p>\n",
       "     </li>\n",
       "            \n",
       "            </ul>\n",
       "        \n",
       "    \n",
       "    "
      ],
      "text/plain": [
       "<gofer.ok.OKTestsResult at 0x7f15dc17b898>"
      ]
     },
     "metadata": {},
     "output_type": "display_data"
    },
    {
     "name": "stdout",
     "output_type": "stream",
     "text": [
      "Question 3:\n"
     ]
    },
    {
     "data": {
      "text/html": [
       "\n",
       "    \n",
       "    \n",
       "        <p>0 of 1 tests passed</p>\n",
       "        \n",
       "        \n",
       "        <p> <strong>Tests failed: </strong>\n",
       "            <ul>\n",
       "            \n",
       "                <li> \n",
       "    <p><strong style='color: red;'>tests/q3_1.py</strong></p>\n",
       "\n",
       "    <p><strong>Test code:</strong><pre><div class=\"highlight\" style=\"background: #f8f8f8\"><pre style=\"line-height: 125%\"><span></span><span style=\"color: #000080; font-weight: bold\">&gt;&gt;&gt; </span><span style=\"color: #008000\">type</span>(my_flower) <span style=\"color: #666666\">==</span> <span style=\"color: #008000\">list</span>\n",
       "<span style=\"color: #888888\">True</span>\n",
       "<span style=\"color: #000080; font-weight: bold\">&gt;&gt;&gt; </span><span style=\"color: #008000\">type</span>(my_flower[<span style=\"color: #666666\">0</span>]) <span style=\"color: #666666\">==</span> <span style=\"color: #008000\">int</span>\n",
       "<span style=\"color: #888888\">True</span>\n",
       "<span style=\"color: #000080; font-weight: bold\">&gt;&gt;&gt; </span><span style=\"color: #008000\">type</span>(my_flower[<span style=\"color: #666666\">1</span>]) <span style=\"color: #666666\">==</span> <span style=\"color: #008000\">str</span> <span style=\"color: #AA22FF; font-weight: bold\">and</span> my_flower[<span style=\"color: #666666\">1</span>] <span style=\"color: #666666\">!=</span> <span style=\"color: #BA2121\">&#39;&#39;</span>\n",
       "<span style=\"color: #888888\">True</span>\n",
       "</pre></div>\n",
       "</pre></p>\n",
       "\n",
       "    <p><strong>Test result:</strong><pre>Trying:\n",
       "    type(my_flower) == list\n",
       "Expecting:\n",
       "    True\n",
       "**********************************************************************\n",
       "Line 2, in tests/q3_1.py 0\n",
       "Failed example:\n",
       "    type(my_flower) == list\n",
       "Expected:\n",
       "    True\n",
       "Got:\n",
       "    False\n",
       "Trying:\n",
       "    type(my_flower[0]) == int\n",
       "Expecting:\n",
       "    True\n",
       "**********************************************************************\n",
       "Line 4, in tests/q3_1.py 0\n",
       "Failed example:\n",
       "    type(my_flower[0]) == int\n",
       "Exception raised:\n",
       "    Traceback (most recent call last):\n",
       "      File \"/srv/conda/envs/notebook/lib/python3.7/doctest.py\", line 1329, in __run\n",
       "        compileflags, 1), test.globs)\n",
       "      File \"<doctest tests/q3_1.py 0[1]>\", line 1, in <module>\n",
       "        type(my_flower[0]) == int\n",
       "    TypeError: 'ellipsis' object is not subscriptable\n",
       "Trying:\n",
       "    type(my_flower[1]) == str and my_flower[1] != ''\n",
       "Expecting:\n",
       "    True\n",
       "**********************************************************************\n",
       "Line 6, in tests/q3_1.py 0\n",
       "Failed example:\n",
       "    type(my_flower[1]) == str and my_flower[1] != ''\n",
       "Exception raised:\n",
       "    Traceback (most recent call last):\n",
       "      File \"/srv/conda/envs/notebook/lib/python3.7/doctest.py\", line 1329, in __run\n",
       "        compileflags, 1), test.globs)\n",
       "      File \"<doctest tests/q3_1.py 0[2]>\", line 1, in <module>\n",
       "        type(my_flower[1]) == str and my_flower[1] != ''\n",
       "    TypeError: 'ellipsis' object is not subscriptable\n",
       "</pre></p>\n",
       "     </li>\n",
       "            \n",
       "            </ul>\n",
       "        \n",
       "    \n",
       "    "
      ],
      "text/plain": [
       "<gofer.ok.OKTestsResult at 0x7f15dc17beb8>"
      ]
     },
     "metadata": {},
     "output_type": "display_data"
    },
    {
     "name": "stdout",
     "output_type": "stream",
     "text": [
      "Question 4:\n"
     ]
    },
    {
     "data": {
      "text/html": [
       "\n",
       "    \n",
       "    \n",
       "        <p>0 of 1 tests passed</p>\n",
       "        \n",
       "        \n",
       "        <p> <strong>Tests failed: </strong>\n",
       "            <ul>\n",
       "            \n",
       "                <li> \n",
       "    <p><strong style='color: red;'>tests/q3_2.py</strong></p>\n",
       "\n",
       "    <p><strong>Test code:</strong><pre><div class=\"highlight\" style=\"background: #f8f8f8\"><pre style=\"line-height: 125%\"><span></span><span style=\"color: #000080; font-weight: bold\">&gt;&gt;&gt; </span><span style=\"color: #008000\">type</span>(seven_flowers) <span style=\"color: #666666\">==</span> Table\n",
       "<span style=\"color: #888888\">True</span>\n",
       "<span style=\"color: #000080; font-weight: bold\">&gt;&gt;&gt; </span>seven_flowers<span style=\"color: #666666\">.</span>num_rows\n",
       "<span style=\"color: #888888\">7</span>\n",
       "<span style=\"color: #000080; font-weight: bold\">&gt;&gt;&gt; </span>seven_flowers<span style=\"color: #666666\">.</span>take([<span style=\"color: #666666\">0</span>, <span style=\"color: #666666\">1</span>, <span style=\"color: #666666\">2</span>, <span style=\"color: #666666\">4</span>, <span style=\"color: #666666\">5</span>, <span style=\"color: #666666\">6</span>])\n",
       "<span style=\"color: #888888\">Number of petals | Name</span>\n",
       "<span style=\"color: #888888\">8                | lotus</span>\n",
       "<span style=\"color: #888888\">34               | sunflower</span>\n",
       "<span style=\"color: #888888\">5                | rose</span>\n",
       "<span style=\"color: #888888\">10               | lavender</span>\n",
       "<span style=\"color: #888888\">3                | birds of paradise</span>\n",
       "<span style=\"color: #888888\">6                | tulip</span>\n",
       "</pre></div>\n",
       "</pre></p>\n",
       "\n",
       "    <p><strong>Test result:</strong><pre>Trying:\n",
       "    type(seven_flowers) == Table\n",
       "Expecting:\n",
       "    True\n",
       "**********************************************************************\n",
       "Line 2, in tests/q3_2.py 0\n",
       "Failed example:\n",
       "    type(seven_flowers) == Table\n",
       "Expected:\n",
       "    True\n",
       "Got:\n",
       "    False\n",
       "Trying:\n",
       "    seven_flowers.num_rows\n",
       "Expecting:\n",
       "    7\n",
       "**********************************************************************\n",
       "Line 4, in tests/q3_2.py 0\n",
       "Failed example:\n",
       "    seven_flowers.num_rows\n",
       "Exception raised:\n",
       "    Traceback (most recent call last):\n",
       "      File \"/srv/conda/envs/notebook/lib/python3.7/doctest.py\", line 1329, in __run\n",
       "        compileflags, 1), test.globs)\n",
       "      File \"<doctest tests/q3_2.py 0[1]>\", line 1, in <module>\n",
       "        seven_flowers.num_rows\n",
       "    AttributeError: 'ellipsis' object has no attribute 'num_rows'\n",
       "Trying:\n",
       "    seven_flowers.take([0, 1, 2, 4, 5, 6])\n",
       "Expecting:\n",
       "    Number of petals | Name\n",
       "    8                | lotus\n",
       "    34               | sunflower\n",
       "    5                | rose\n",
       "    10               | lavender\n",
       "    3                | birds of paradise\n",
       "    6                | tulip\n",
       "**********************************************************************\n",
       "Line 6, in tests/q3_2.py 0\n",
       "Failed example:\n",
       "    seven_flowers.take([0, 1, 2, 4, 5, 6])\n",
       "Exception raised:\n",
       "    Traceback (most recent call last):\n",
       "      File \"/srv/conda/envs/notebook/lib/python3.7/doctest.py\", line 1329, in __run\n",
       "        compileflags, 1), test.globs)\n",
       "      File \"<doctest tests/q3_2.py 0[2]>\", line 1, in <module>\n",
       "        seven_flowers.take([0, 1, 2, 4, 5, 6])\n",
       "    AttributeError: 'ellipsis' object has no attribute 'take'\n",
       "</pre></p>\n",
       "     </li>\n",
       "            \n",
       "            </ul>\n",
       "        \n",
       "    \n",
       "    "
      ],
      "text/plain": [
       "<gofer.ok.OKTestsResult at 0x7f15dc0ff240>"
      ]
     },
     "metadata": {},
     "output_type": "display_data"
    },
    {
     "name": "stdout",
     "output_type": "stream",
     "text": [
      "Question 5:\n"
     ]
    },
    {
     "data": {
      "text/html": [
       "\n",
       "    \n",
       "    \n",
       "        <p>0 of 1 tests passed</p>\n",
       "        \n",
       "        \n",
       "        <p> <strong>Tests failed: </strong>\n",
       "            <ul>\n",
       "            \n",
       "                <li> \n",
       "    <p><strong style='color: red;'>tests/q4_1.py</strong></p>\n",
       "\n",
       "    <p><strong>Test code:</strong><pre><div class=\"highlight\" style=\"background: #f8f8f8\"><pre style=\"line-height: 125%\"><span></span><span style=\"color: #000080; font-weight: bold\">&gt;&gt;&gt; </span>highest_rating <span style=\"color: #666666\">==</span> <span style=\"color: #666666\">9.2</span>\n",
       "<span style=\"color: #888888\">True</span>\n",
       "</pre></div>\n",
       "</pre></p>\n",
       "\n",
       "    <p><strong>Test result:</strong><pre>Trying:\n",
       "    highest_rating == 9.2\n",
       "Expecting:\n",
       "    True\n",
       "**********************************************************************\n",
       "Line 2, in tests/q4_1.py 0\n",
       "Failed example:\n",
       "    highest_rating == 9.2\n",
       "Expected:\n",
       "    True\n",
       "Got:\n",
       "    False\n",
       "</pre></p>\n",
       "     </li>\n",
       "            \n",
       "            </ul>\n",
       "        \n",
       "    \n",
       "    "
      ],
      "text/plain": [
       "<gofer.ok.OKTestsResult at 0x7f15dc0ff5c0>"
      ]
     },
     "metadata": {},
     "output_type": "display_data"
    },
    {
     "name": "stdout",
     "output_type": "stream",
     "text": [
      "Question 6:\n"
     ]
    },
    {
     "data": {
      "text/html": [
       "\n",
       "    \n",
       "    \n",
       "        <p>0 of 1 tests passed</p>\n",
       "        \n",
       "        \n",
       "        <p> <strong>Tests failed: </strong>\n",
       "            <ul>\n",
       "            \n",
       "                <li> \n",
       "    <p><strong style='color: red;'>tests/q4_2.py</strong></p>\n",
       "\n",
       "    <p><strong>Test code:</strong><pre><div class=\"highlight\" style=\"background: #f8f8f8\"><pre style=\"line-height: 125%\"><span></span><span style=\"color: #000080; font-weight: bold\">&gt;&gt;&gt; </span><span style=\"color: #008000\">type</span>(imdb_by_year) <span style=\"color: #666666\">==</span> tables<span style=\"color: #666666\">.</span>Table\n",
       "<span style=\"color: #888888\">True</span>\n",
       "<span style=\"color: #000080; font-weight: bold\">&gt;&gt;&gt; </span><span style=\"color: #008000\">list</span>(imdb_by_year<span style=\"color: #666666\">.</span>column(<span style=\"color: #BA2121\">&#39;Title&#39;</span>)<span style=\"color: #666666\">.</span>take(<span style=\"color: #008000\">range</span>(<span style=\"color: #666666\">3</span>)))\n",
       "<span style=\"color: #888888\">[&#39;The Kid&#39;, &#39;The Gold Rush&#39;, &#39;The General&#39;]</span>\n",
       "</pre></div>\n",
       "</pre></p>\n",
       "\n",
       "    <p><strong>Test result:</strong><pre>Trying:\n",
       "    type(imdb_by_year) == tables.Table\n",
       "Expecting:\n",
       "    True\n",
       "**********************************************************************\n",
       "Line 2, in tests/q4_2.py 0\n",
       "Failed example:\n",
       "    type(imdb_by_year) == tables.Table\n",
       "Expected:\n",
       "    True\n",
       "Got:\n",
       "    False\n",
       "Trying:\n",
       "    list(imdb_by_year.column('Title').take(range(3)))\n",
       "Expecting:\n",
       "    ['The Kid', 'The Gold Rush', 'The General']\n",
       "**********************************************************************\n",
       "Line 4, in tests/q4_2.py 0\n",
       "Failed example:\n",
       "    list(imdb_by_year.column('Title').take(range(3)))\n",
       "Exception raised:\n",
       "    Traceback (most recent call last):\n",
       "      File \"/srv/conda/envs/notebook/lib/python3.7/doctest.py\", line 1329, in __run\n",
       "        compileflags, 1), test.globs)\n",
       "      File \"<doctest tests/q4_2.py 0[1]>\", line 1, in <module>\n",
       "        list(imdb_by_year.column('Title').take(range(3)))\n",
       "    AttributeError: 'ellipsis' object has no attribute 'column'\n",
       "</pre></p>\n",
       "     </li>\n",
       "            \n",
       "            </ul>\n",
       "        \n",
       "    \n",
       "    "
      ],
      "text/plain": [
       "<gofer.ok.OKTestsResult at 0x7f15dc0ff780>"
      ]
     },
     "metadata": {},
     "output_type": "display_data"
    },
    {
     "name": "stdout",
     "output_type": "stream",
     "text": [
      "Question 7:\n"
     ]
    },
    {
     "data": {
      "text/html": [
       "\n",
       "    \n",
       "    \n",
       "        <p>0 of 1 tests passed</p>\n",
       "        \n",
       "        \n",
       "        <p> <strong>Tests failed: </strong>\n",
       "            <ul>\n",
       "            \n",
       "                <li> \n",
       "    <p><strong style='color: red;'>tests/q4_3.py</strong></p>\n",
       "\n",
       "    <p><strong>Test code:</strong><pre><div class=\"highlight\" style=\"background: #f8f8f8\"><pre style=\"line-height: 125%\"><span></span><span style=\"color: #000080; font-weight: bold\">&gt;&gt;&gt; </span>earliest_movie_title <span style=\"color: #666666\">==</span> <span style=\"color: #BA2121\">&#39;The Kid&#39;</span>\n",
       "<span style=\"color: #888888\">True</span>\n",
       "</pre></div>\n",
       "</pre></p>\n",
       "\n",
       "    <p><strong>Test result:</strong><pre>Trying:\n",
       "    earliest_movie_title == 'The Kid'\n",
       "Expecting:\n",
       "    True\n",
       "**********************************************************************\n",
       "Line 2, in tests/q4_3.py 0\n",
       "Failed example:\n",
       "    earliest_movie_title == 'The Kid'\n",
       "Expected:\n",
       "    True\n",
       "Got:\n",
       "    False\n",
       "</pre></p>\n",
       "     </li>\n",
       "            \n",
       "            </ul>\n",
       "        \n",
       "    \n",
       "    "
      ],
      "text/plain": [
       "<gofer.ok.OKTestsResult at 0x7f15dc0ff7f0>"
      ]
     },
     "metadata": {},
     "output_type": "display_data"
    },
    {
     "name": "stdout",
     "output_type": "stream",
     "text": [
      "Question 8:\n"
     ]
    },
    {
     "data": {
      "text/html": [
       "\n",
       "    \n",
       "    \n",
       "        <p>0 of 1 tests passed</p>\n",
       "        \n",
       "        \n",
       "        <p> <strong>Tests failed: </strong>\n",
       "            <ul>\n",
       "            \n",
       "                <li> \n",
       "    <p><strong style='color: red;'>tests/q5_1.py</strong></p>\n",
       "\n",
       "    <p><strong>Test code:</strong><pre><div class=\"highlight\" style=\"background: #f8f8f8\"><pre style=\"line-height: 125%\"><span></span><span style=\"color: #000080; font-weight: bold\">&gt;&gt;&gt; </span><span style=\"color: #008000\">abs</span>(average_rating_in_forties <span style=\"color: #666666\">-</span> <span style=\"color: #666666\">8.2571428571428562</span>) <span style=\"color: #666666\">&lt;</span> <span style=\"color: #666666\">1e-5</span>\n",
       "<span style=\"color: #888888\">True</span>\n",
       "</pre></div>\n",
       "</pre></p>\n",
       "\n",
       "    <p><strong>Test result:</strong><pre>Trying:\n",
       "    abs(average_rating_in_forties - 8.2571428571428562) < 1e-5\n",
       "Expecting:\n",
       "    True\n",
       "**********************************************************************\n",
       "Line 2, in tests/q5_1.py 0\n",
       "Failed example:\n",
       "    abs(average_rating_in_forties - 8.2571428571428562) < 1e-5\n",
       "Exception raised:\n",
       "    Traceback (most recent call last):\n",
       "      File \"/srv/conda/envs/notebook/lib/python3.7/doctest.py\", line 1329, in __run\n",
       "        compileflags, 1), test.globs)\n",
       "      File \"<doctest tests/q5_1.py 0[0]>\", line 1, in <module>\n",
       "        abs(average_rating_in_forties - 8.2571428571428562) < 1e-5\n",
       "    TypeError: unsupported operand type(s) for -: 'ellipsis' and 'float'\n",
       "</pre></p>\n",
       "     </li>\n",
       "            \n",
       "            </ul>\n",
       "        \n",
       "    \n",
       "    "
      ],
      "text/plain": [
       "<gofer.ok.OKTestsResult at 0x7f15dc0ffb00>"
      ]
     },
     "metadata": {},
     "output_type": "display_data"
    },
    {
     "name": "stdout",
     "output_type": "stream",
     "text": [
      "Question 9:\n"
     ]
    },
    {
     "data": {
      "text/html": [
       "\n",
       "    \n",
       "    \n",
       "        <p>0 of 1 tests passed</p>\n",
       "        \n",
       "        \n",
       "        <p> <strong>Tests failed: </strong>\n",
       "            <ul>\n",
       "            \n",
       "                <li> \n",
       "    <p><strong style='color: red;'>tests/q5_2.py</strong></p>\n",
       "\n",
       "    <p><strong>Test code:</strong><pre><div class=\"highlight\" style=\"background: #f8f8f8\"><pre style=\"line-height: 125%\"><span></span><span style=\"color: #000080; font-weight: bold\">&gt;&gt;&gt; </span>ninety_nine<span style=\"color: #666666\">.</span>num_rows <span style=\"color: #666666\">==</span> <span style=\"color: #666666\">5</span>\n",
       "<span style=\"color: #888888\">True</span>\n",
       "<span style=\"color: #000080; font-weight: bold\">&gt;&gt;&gt; </span>ninety_nine<span style=\"color: #666666\">.</span>sort(<span style=\"color: #666666\">0</span>)\n",
       "<span style=\"color: #888888\">Votes   | Rating | Title           | Year | Decade</span>\n",
       "<span style=\"color: #888888\">630994  | 8.1    | The Sixth Sense | 1999 | 1990</span>\n",
       "<span style=\"color: #888888\">672878  | 8.5    | The Green Mile  | 1999 | 1990</span>\n",
       "<span style=\"color: #888888\">735056  | 8.4    | American Beauty | 1999 | 1990</span>\n",
       "<span style=\"color: #888888\">1073043 | 8.7    | The Matrix      | 1999 | 1990</span>\n",
       "<span style=\"color: #888888\">1177098 | 8.8    | Fight Club      | 1999 | 1990</span>\n",
       "</pre></div>\n",
       "</pre></p>\n",
       "\n",
       "    <p><strong>Test result:</strong><pre>Trying:\n",
       "    ninety_nine.num_rows == 5\n",
       "Expecting:\n",
       "    True\n",
       "**********************************************************************\n",
       "Line 2, in tests/q5_2.py 0\n",
       "Failed example:\n",
       "    ninety_nine.num_rows == 5\n",
       "Exception raised:\n",
       "    Traceback (most recent call last):\n",
       "      File \"/srv/conda/envs/notebook/lib/python3.7/doctest.py\", line 1329, in __run\n",
       "        compileflags, 1), test.globs)\n",
       "      File \"<doctest tests/q5_2.py 0[0]>\", line 1, in <module>\n",
       "        ninety_nine.num_rows == 5\n",
       "    AttributeError: 'ellipsis' object has no attribute 'num_rows'\n",
       "Trying:\n",
       "    ninety_nine.sort(0)\n",
       "Expecting:\n",
       "    Votes   | Rating | Title           | Year | Decade\n",
       "    630994  | 8.1    | The Sixth Sense | 1999 | 1990\n",
       "    672878  | 8.5    | The Green Mile  | 1999 | 1990\n",
       "    735056  | 8.4    | American Beauty | 1999 | 1990\n",
       "    1073043 | 8.7    | The Matrix      | 1999 | 1990\n",
       "    1177098 | 8.8    | Fight Club      | 1999 | 1990\n",
       "**********************************************************************\n",
       "Line 4, in tests/q5_2.py 0\n",
       "Failed example:\n",
       "    ninety_nine.sort(0)\n",
       "Exception raised:\n",
       "    Traceback (most recent call last):\n",
       "      File \"/srv/conda/envs/notebook/lib/python3.7/doctest.py\", line 1329, in __run\n",
       "        compileflags, 1), test.globs)\n",
       "      File \"<doctest tests/q5_2.py 0[1]>\", line 1, in <module>\n",
       "        ninety_nine.sort(0)\n",
       "    AttributeError: 'ellipsis' object has no attribute 'sort'\n",
       "</pre></p>\n",
       "     </li>\n",
       "            \n",
       "            </ul>\n",
       "        \n",
       "    \n",
       "    "
      ],
      "text/plain": [
       "<gofer.ok.OKTestsResult at 0x7f15dc0ffc18>"
      ]
     },
     "metadata": {},
     "output_type": "display_data"
    },
    {
     "name": "stdout",
     "output_type": "stream",
     "text": [
      "Question 10:\n"
     ]
    },
    {
     "data": {
      "text/html": [
       "\n",
       "    \n",
       "    \n",
       "        <p>0 of 1 tests passed</p>\n",
       "        \n",
       "        \n",
       "        <p> <strong>Tests failed: </strong>\n",
       "            <ul>\n",
       "            \n",
       "                <li> \n",
       "    <p><strong style='color: red;'>tests/q5_3.py</strong></p>\n",
       "\n",
       "    <p><strong>Test code:</strong><pre><div class=\"highlight\" style=\"background: #f8f8f8\"><pre style=\"line-height: 125%\"><span></span><span style=\"color: #000080; font-weight: bold\">&gt;&gt;&gt; </span><span style=\"color: #008000\">type</span>(really_highly_rated) <span style=\"color: #666666\">==</span> tables<span style=\"color: #666666\">.</span>Table\n",
       "<span style=\"color: #888888\">True</span>\n",
       "<span style=\"color: #000080; font-weight: bold\">&gt;&gt;&gt; </span>really_highly_rated<span style=\"color: #666666\">.</span>num_rows <span style=\"color: #666666\">==</span> <span style=\"color: #666666\">29</span>\n",
       "<span style=\"color: #888888\">True</span>\n",
       "<span style=\"color: #000080; font-weight: bold\">&gt;&gt;&gt; </span><span style=\"color: #008000; font-weight: bold\">print</span>(really_highly_rated<span style=\"color: #666666\">.</span>sort(<span style=\"color: #666666\">0</span>)<span style=\"color: #666666\">.</span>take([<span style=\"color: #666666\">17</span>]))\n",
       "<span style=\"color: #888888\">Votes  | Rating | Title | Year | Decade</span>\n",
       "<span style=\"color: #888888\">895411 | 8.6    | Se7en | 1995 | 1990</span>\n",
       "</pre></div>\n",
       "</pre></p>\n",
       "\n",
       "    <p><strong>Test result:</strong><pre>Trying:\n",
       "    type(really_highly_rated) == tables.Table\n",
       "Expecting:\n",
       "    True\n",
       "**********************************************************************\n",
       "Line 2, in tests/q5_3.py 0\n",
       "Failed example:\n",
       "    type(really_highly_rated) == tables.Table\n",
       "Expected:\n",
       "    True\n",
       "Got:\n",
       "    False\n",
       "Trying:\n",
       "    really_highly_rated.num_rows == 29\n",
       "Expecting:\n",
       "    True\n",
       "**********************************************************************\n",
       "Line 4, in tests/q5_3.py 0\n",
       "Failed example:\n",
       "    really_highly_rated.num_rows == 29\n",
       "Exception raised:\n",
       "    Traceback (most recent call last):\n",
       "      File \"/srv/conda/envs/notebook/lib/python3.7/doctest.py\", line 1329, in __run\n",
       "        compileflags, 1), test.globs)\n",
       "      File \"<doctest tests/q5_3.py 0[1]>\", line 1, in <module>\n",
       "        really_highly_rated.num_rows == 29\n",
       "    AttributeError: 'ellipsis' object has no attribute 'num_rows'\n",
       "Trying:\n",
       "    print(really_highly_rated.sort(0).take([17]))\n",
       "Expecting:\n",
       "    Votes  | Rating | Title | Year | Decade\n",
       "    895411 | 8.6    | Se7en | 1995 | 1990\n",
       "**********************************************************************\n",
       "Line 6, in tests/q5_3.py 0\n",
       "Failed example:\n",
       "    print(really_highly_rated.sort(0).take([17]))\n",
       "Exception raised:\n",
       "    Traceback (most recent call last):\n",
       "      File \"/srv/conda/envs/notebook/lib/python3.7/doctest.py\", line 1329, in __run\n",
       "        compileflags, 1), test.globs)\n",
       "      File \"<doctest tests/q5_3.py 0[2]>\", line 1, in <module>\n",
       "        print(really_highly_rated.sort(0).take([17]))\n",
       "    AttributeError: 'ellipsis' object has no attribute 'sort'\n",
       "</pre></p>\n",
       "     </li>\n",
       "            \n",
       "            </ul>\n",
       "        \n",
       "    \n",
       "    "
      ],
      "text/plain": [
       "<gofer.ok.OKTestsResult at 0x7f15dc0ffef0>"
      ]
     },
     "metadata": {},
     "output_type": "display_data"
    },
    {
     "name": "stdout",
     "output_type": "stream",
     "text": [
      "Question 11:\n"
     ]
    },
    {
     "data": {
      "text/html": [
       "\n",
       "    \n",
       "    \n",
       "        <p>0 of 1 tests passed</p>\n",
       "        \n",
       "        \n",
       "        <p> <strong>Tests failed: </strong>\n",
       "            <ul>\n",
       "            \n",
       "                <li> \n",
       "    <p><strong style='color: red;'>tests/q5_4.py</strong></p>\n",
       "\n",
       "    <p><strong>Test code:</strong><pre><div class=\"highlight\" style=\"background: #f8f8f8\"><pre style=\"line-height: 125%\"><span></span><span style=\"color: #000080; font-weight: bold\">&gt;&gt;&gt; </span><span style=\"color: #008000\">abs</span>(average_20th_century_rating <span style=\"color: #666666\">-</span> <span style=\"color: #666666\">8.2783625730994146</span>) <span style=\"color: #666666\">&lt;</span> <span style=\"color: #666666\">1e-5</span>\n",
       "<span style=\"color: #888888\">True</span>\n",
       "<span style=\"color: #000080; font-weight: bold\">&gt;&gt;&gt; </span><span style=\"color: #008000\">abs</span>(average_21st_century_rating <span style=\"color: #666666\">-</span> <span style=\"color: #666666\">8.2379746835443033</span>) <span style=\"color: #666666\">&lt;</span> <span style=\"color: #666666\">1e-5</span>\n",
       "<span style=\"color: #888888\">True</span>\n",
       "</pre></div>\n",
       "</pre></p>\n",
       "\n",
       "    <p><strong>Test result:</strong><pre>Trying:\n",
       "    abs(average_20th_century_rating - 8.2783625730994146) < 1e-5\n",
       "Expecting:\n",
       "    True\n",
       "**********************************************************************\n",
       "Line 2, in tests/q5_4.py 0\n",
       "Failed example:\n",
       "    abs(average_20th_century_rating - 8.2783625730994146) < 1e-5\n",
       "Exception raised:\n",
       "    Traceback (most recent call last):\n",
       "      File \"/srv/conda/envs/notebook/lib/python3.7/doctest.py\", line 1329, in __run\n",
       "        compileflags, 1), test.globs)\n",
       "      File \"<doctest tests/q5_4.py 0[0]>\", line 1, in <module>\n",
       "        abs(average_20th_century_rating - 8.2783625730994146) < 1e-5\n",
       "    TypeError: unsupported operand type(s) for -: 'ellipsis' and 'float'\n",
       "Trying:\n",
       "    abs(average_21st_century_rating - 8.2379746835443033) < 1e-5\n",
       "Expecting:\n",
       "    True\n",
       "**********************************************************************\n",
       "Line 4, in tests/q5_4.py 0\n",
       "Failed example:\n",
       "    abs(average_21st_century_rating - 8.2379746835443033) < 1e-5\n",
       "Exception raised:\n",
       "    Traceback (most recent call last):\n",
       "      File \"/srv/conda/envs/notebook/lib/python3.7/doctest.py\", line 1329, in __run\n",
       "        compileflags, 1), test.globs)\n",
       "      File \"<doctest tests/q5_4.py 0[1]>\", line 1, in <module>\n",
       "        abs(average_21st_century_rating - 8.2379746835443033) < 1e-5\n",
       "    TypeError: unsupported operand type(s) for -: 'ellipsis' and 'float'\n",
       "</pre></p>\n",
       "     </li>\n",
       "            \n",
       "            </ul>\n",
       "        \n",
       "    \n",
       "    "
      ],
      "text/plain": [
       "<gofer.ok.OKTestsResult at 0x7f15dc10e208>"
      ]
     },
     "metadata": {},
     "output_type": "display_data"
    },
    {
     "name": "stdout",
     "output_type": "stream",
     "text": [
      "Question 12:\n"
     ]
    },
    {
     "data": {
      "text/html": [
       "\n",
       "    \n",
       "    \n",
       "        <p>0 of 1 tests passed</p>\n",
       "        \n",
       "        \n",
       "        <p> <strong>Tests failed: </strong>\n",
       "            <ul>\n",
       "            \n",
       "                <li> \n",
       "    <p><strong style='color: red;'>tests/q5_5.py</strong></p>\n",
       "\n",
       "    <p><strong>Test code:</strong><pre><div class=\"highlight\" style=\"background: #f8f8f8\"><pre style=\"line-height: 125%\"><span></span><span style=\"color: #000080; font-weight: bold\">&gt;&gt;&gt; </span>proportion_in_20th_century <span style=\"color: #666666\">==</span> <span style=\"color: #666666\">0.684</span>\n",
       "<span style=\"color: #888888\">True</span>\n",
       "<span style=\"color: #000080; font-weight: bold\">&gt;&gt;&gt; </span>proportion_in_21st_century <span style=\"color: #666666\">==</span> <span style=\"color: #666666\">0.316</span>\n",
       "<span style=\"color: #888888\">True</span>\n",
       "</pre></div>\n",
       "</pre></p>\n",
       "\n",
       "    <p><strong>Test result:</strong><pre>Trying:\n",
       "    proportion_in_20th_century == 0.684\n",
       "Expecting:\n",
       "    True\n",
       "**********************************************************************\n",
       "Line 2, in tests/q5_5.py 0\n",
       "Failed example:\n",
       "    proportion_in_20th_century == 0.684\n",
       "Expected:\n",
       "    True\n",
       "Got:\n",
       "    False\n",
       "Trying:\n",
       "    proportion_in_21st_century == 0.316\n",
       "Expecting:\n",
       "    True\n",
       "**********************************************************************\n",
       "Line 4, in tests/q5_5.py 0\n",
       "Failed example:\n",
       "    proportion_in_21st_century == 0.316\n",
       "Expected:\n",
       "    True\n",
       "Got:\n",
       "    False\n",
       "</pre></p>\n",
       "     </li>\n",
       "            \n",
       "            </ul>\n",
       "        \n",
       "    \n",
       "    "
      ],
      "text/plain": [
       "<gofer.ok.OKTestsResult at 0x7f15dc10e518>"
      ]
     },
     "metadata": {},
     "output_type": "display_data"
    },
    {
     "name": "stdout",
     "output_type": "stream",
     "text": [
      "Question 13:\n"
     ]
    },
    {
     "data": {
      "text/html": [
       "\n",
       "    \n",
       "    \n",
       "        <p>0 of 1 tests passed</p>\n",
       "        \n",
       "        \n",
       "        <p> <strong>Tests failed: </strong>\n",
       "            <ul>\n",
       "            \n",
       "                <li> \n",
       "    <p><strong style='color: red;'>tests/q5_6.py</strong></p>\n",
       "\n",
       "    <p><strong>Test code:</strong><pre><div class=\"highlight\" style=\"background: #f8f8f8\"><pre style=\"line-height: 125%\"><span></span><span style=\"color: #000080; font-weight: bold\">&gt;&gt;&gt; </span>num_even_year_movies <span style=\"color: #666666\">==</span> <span style=\"color: #666666\">127</span>\n",
       "<span style=\"color: #888888\">True</span>\n",
       "</pre></div>\n",
       "</pre></p>\n",
       "\n",
       "    <p><strong>Test result:</strong><pre>Trying:\n",
       "    num_even_year_movies == 127\n",
       "Expecting:\n",
       "    True\n",
       "**********************************************************************\n",
       "Line 2, in tests/q5_6.py 0\n",
       "Failed example:\n",
       "    num_even_year_movies == 127\n",
       "Expected:\n",
       "    True\n",
       "Got:\n",
       "    False\n",
       "</pre></p>\n",
       "     </li>\n",
       "            \n",
       "            </ul>\n",
       "        \n",
       "    \n",
       "    "
      ],
      "text/plain": [
       "<gofer.ok.OKTestsResult at 0x7f15dc10e748>"
      ]
     },
     "metadata": {},
     "output_type": "display_data"
    },
    {
     "name": "stdout",
     "output_type": "stream",
     "text": [
      "Question 14:\n"
     ]
    },
    {
     "data": {
      "text/html": [
       "\n",
       "    \n",
       "    \n",
       "        <p>0 of 1 tests passed</p>\n",
       "        \n",
       "        \n",
       "        <p> <strong>Tests failed: </strong>\n",
       "            <ul>\n",
       "            \n",
       "                <li> \n",
       "    <p><strong style='color: red;'>tests/q5_7.py</strong></p>\n",
       "\n",
       "    <p><strong>Test code:</strong><pre><div class=\"highlight\" style=\"background: #f8f8f8\"><pre style=\"line-height: 125%\"><span></span><span style=\"color: #000080; font-weight: bold\">&gt;&gt;&gt; </span>year_population_crossed_6_billion <span style=\"color: #666666\">==</span> <span style=\"color: #666666\">1999</span>\n",
       "<span style=\"color: #888888\">True</span>\n",
       "</pre></div>\n",
       "</pre></p>\n",
       "\n",
       "    <p><strong>Test result:</strong><pre>Trying:\n",
       "    year_population_crossed_6_billion == 1999\n",
       "Expecting:\n",
       "    True\n",
       "**********************************************************************\n",
       "Line 2, in tests/q5_7.py 0\n",
       "Failed example:\n",
       "    year_population_crossed_6_billion == 1999\n",
       "Expected:\n",
       "    True\n",
       "Got:\n",
       "    False\n",
       "</pre></p>\n",
       "     </li>\n",
       "            \n",
       "            </ul>\n",
       "        \n",
       "    \n",
       "    "
      ],
      "text/plain": [
       "<gofer.ok.OKTestsResult at 0x7f15dc10e860>"
      ]
     },
     "metadata": {},
     "output_type": "display_data"
    },
    {
     "name": "stdout",
     "output_type": "stream",
     "text": [
      "Question 15:\n"
     ]
    },
    {
     "data": {
      "text/html": [
       "\n",
       "    \n",
       "    \n",
       "        <p>0 of 1 tests passed</p>\n",
       "        \n",
       "        \n",
       "        <p> <strong>Tests failed: </strong>\n",
       "            <ul>\n",
       "            \n",
       "                <li> \n",
       "    <p><strong style='color: red;'>tests/q6_1.py</strong></p>\n",
       "\n",
       "    <p><strong>Test code:</strong><pre><div class=\"highlight\" style=\"background: #f8f8f8\"><pre style=\"line-height: 125%\"><span></span><span style=\"color: #000080; font-weight: bold\">&gt;&gt;&gt; </span>farmers_markets<span style=\"color: #666666\">.</span>select(<span style=\"color: #008000\">range</span>(<span style=\"color: #666666\">3</span>))<span style=\"color: #666666\">.</span>take(<span style=\"color: #008000\">range</span>(<span style=\"color: #666666\">3</span>))<span style=\"color: #666666\">.</span>sort(<span style=\"color: #666666\">0</span>)\n",
       "<span style=\"color: #888888\">FMID    | MarketName                                       | Website</span>\n",
       "<span style=\"color: #888888\">1011871 |  Stearns Homestead Farmers&#39; Market               | http://Stearnshomestead.com</span>\n",
       "<span style=\"color: #888888\">1011878 | 100 Mile Market                                  | http://www.pfcmarkets.com</span>\n",
       "<span style=\"color: #888888\">1012063 |  Caledonia Farmers Market Association - Danville | https://sites.google.com/site/caledoniafarmersmarket/</span>\n",
       "</pre></div>\n",
       "</pre></p>\n",
       "\n",
       "    <p><strong>Test result:</strong><pre>Trying:\n",
       "    farmers_markets.select(range(3)).take(range(3)).sort(0)\n",
       "Expecting:\n",
       "    FMID    | MarketName                                       | Website\n",
       "    1011871 |  Stearns Homestead Farmers' Market               | http://Stearnshomestead.com\n",
       "    1011878 | 100 Mile Market                                  | http://www.pfcmarkets.com\n",
       "    1012063 |  Caledonia Farmers Market Association - Danville | https://sites.google.com/site/caledoniafarmersmarket/\n",
       "**********************************************************************\n",
       "Line 2, in tests/q6_1.py 0\n",
       "Failed example:\n",
       "    farmers_markets.select(range(3)).take(range(3)).sort(0)\n",
       "Exception raised:\n",
       "    Traceback (most recent call last):\n",
       "      File \"/srv/conda/envs/notebook/lib/python3.7/doctest.py\", line 1329, in __run\n",
       "        compileflags, 1), test.globs)\n",
       "      File \"<doctest tests/q6_1.py 0[0]>\", line 1, in <module>\n",
       "        farmers_markets.select(range(3)).take(range(3)).sort(0)\n",
       "    AttributeError: 'ellipsis' object has no attribute 'select'\n",
       "</pre></p>\n",
       "     </li>\n",
       "            \n",
       "            </ul>\n",
       "        \n",
       "    \n",
       "    "
      ],
      "text/plain": [
       "<gofer.ok.OKTestsResult at 0x7f15dc10e898>"
      ]
     },
     "metadata": {},
     "output_type": "display_data"
    },
    {
     "name": "stdout",
     "output_type": "stream",
     "text": [
      "Question 16:\n"
     ]
    },
    {
     "data": {
      "text/html": [
       "\n",
       "    \n",
       "    \n",
       "        <p>0 of 1 tests passed</p>\n",
       "        \n",
       "        \n",
       "        <p> <strong>Tests failed: </strong>\n",
       "            <ul>\n",
       "            \n",
       "                <li> \n",
       "    <p><strong style='color: red;'>tests/q6_2.py</strong></p>\n",
       "\n",
       "    <p><strong>Test code:</strong><pre><div class=\"highlight\" style=\"background: #f8f8f8\"><pre style=\"line-height: 125%\"><span></span><span style=\"color: #000080; font-weight: bold\">&gt;&gt;&gt; </span>num_farmers_markets_columns <span style=\"color: #666666\">==</span> <span style=\"color: #666666\">59</span>\n",
       "<span style=\"color: #888888\">True</span>\n",
       "</pre></div>\n",
       "</pre></p>\n",
       "\n",
       "    <p><strong>Test result:</strong><pre>Trying:\n",
       "    num_farmers_markets_columns == 59\n",
       "Expecting:\n",
       "    True\n",
       "**********************************************************************\n",
       "Line 2, in tests/q6_2.py 0\n",
       "Failed example:\n",
       "    num_farmers_markets_columns == 59\n",
       "Expected:\n",
       "    True\n",
       "Got:\n",
       "    False\n",
       "</pre></p>\n",
       "     </li>\n",
       "            \n",
       "            </ul>\n",
       "        \n",
       "    \n",
       "    "
      ],
      "text/plain": [
       "<gofer.ok.OKTestsResult at 0x7f15dc0fff60>"
      ]
     },
     "metadata": {},
     "output_type": "display_data"
    },
    {
     "name": "stdout",
     "output_type": "stream",
     "text": [
      "Question 17:\n"
     ]
    },
    {
     "data": {
      "text/html": [
       "\n",
       "    \n",
       "    \n",
       "        <p>0 of 1 tests passed</p>\n",
       "        \n",
       "        \n",
       "        <p> <strong>Tests failed: </strong>\n",
       "            <ul>\n",
       "            \n",
       "                <li> \n",
       "    <p><strong style='color: red;'>tests/q6_3.py</strong></p>\n",
       "\n",
       "    <p><strong>Test code:</strong><pre><div class=\"highlight\" style=\"background: #f8f8f8\"><pre style=\"line-height: 125%\"><span></span><span style=\"color: #000080; font-weight: bold\">&gt;&gt;&gt; </span><span style=\"color: #008000\">sorted</span>(farmers_markets_locations<span style=\"color: #666666\">.</span>labels)\n",
       "<span style=\"color: #888888\">[&#39;MarketName&#39;, &#39;State&#39;, &#39;city&#39;, &#39;x&#39;, &#39;y&#39;]</span>\n",
       "<span style=\"color: #000080; font-weight: bold\">&gt;&gt;&gt; </span>farmers_markets_locations<span style=\"color: #666666\">.</span>num_rows <span style=\"color: #666666\">==</span> <span style=\"color: #666666\">8546</span>\n",
       "<span style=\"color: #888888\">True</span>\n",
       "<span style=\"color: #000080; font-weight: bold\">&gt;&gt;&gt; </span>farmers_markets_locations<span style=\"color: #666666\">.</span>sort(<span style=\"color: #666666\">0</span>)<span style=\"color: #666666\">.</span>take(<span style=\"color: #008000\">range</span>(<span style=\"color: #666666\">3</span>))\n",
       "<span style=\"color: #888888\">MarketName                                       | city      | State    | y       | x</span>\n",
       "<span style=\"color: #888888\"> Caledonia Farmers Market Association - Danville | Danville  | Vermont  | 44.411  | -72.1403</span>\n",
       "<span style=\"color: #888888\"> Stearns Homestead Farmers&#39; Market               | Parma     | Ohio     | 41.3751 | -81.7286</span>\n",
       "<span style=\"color: #888888\">100 Mile Market                                  | Kalamazoo | Michigan | 42.296  | -85.5749</span>\n",
       "</pre></div>\n",
       "</pre></p>\n",
       "\n",
       "    <p><strong>Test result:</strong><pre>Trying:\n",
       "    sorted(farmers_markets_locations.labels)\n",
       "Expecting:\n",
       "    ['MarketName', 'State', 'city', 'x', 'y']\n",
       "**********************************************************************\n",
       "Line 2, in tests/q6_3.py 0\n",
       "Failed example:\n",
       "    sorted(farmers_markets_locations.labels)\n",
       "Exception raised:\n",
       "    Traceback (most recent call last):\n",
       "      File \"/srv/conda/envs/notebook/lib/python3.7/doctest.py\", line 1329, in __run\n",
       "        compileflags, 1), test.globs)\n",
       "      File \"<doctest tests/q6_3.py 0[0]>\", line 1, in <module>\n",
       "        sorted(farmers_markets_locations.labels)\n",
       "    AttributeError: 'ellipsis' object has no attribute 'labels'\n",
       "Trying:\n",
       "    farmers_markets_locations.num_rows == 8546\n",
       "Expecting:\n",
       "    True\n",
       "**********************************************************************\n",
       "Line 4, in tests/q6_3.py 0\n",
       "Failed example:\n",
       "    farmers_markets_locations.num_rows == 8546\n",
       "Exception raised:\n",
       "    Traceback (most recent call last):\n",
       "      File \"/srv/conda/envs/notebook/lib/python3.7/doctest.py\", line 1329, in __run\n",
       "        compileflags, 1), test.globs)\n",
       "      File \"<doctest tests/q6_3.py 0[1]>\", line 1, in <module>\n",
       "        farmers_markets_locations.num_rows == 8546\n",
       "    AttributeError: 'ellipsis' object has no attribute 'num_rows'\n",
       "Trying:\n",
       "    farmers_markets_locations.sort(0).take(range(3))\n",
       "Expecting:\n",
       "    MarketName                                       | city      | State    | y       | x\n",
       "     Caledonia Farmers Market Association - Danville | Danville  | Vermont  | 44.411  | -72.1403\n",
       "     Stearns Homestead Farmers' Market               | Parma     | Ohio     | 41.3751 | -81.7286\n",
       "    100 Mile Market                                  | Kalamazoo | Michigan | 42.296  | -85.5749\n",
       "**********************************************************************\n",
       "Line 6, in tests/q6_3.py 0\n",
       "Failed example:\n",
       "    farmers_markets_locations.sort(0).take(range(3))\n",
       "Exception raised:\n",
       "    Traceback (most recent call last):\n",
       "      File \"/srv/conda/envs/notebook/lib/python3.7/doctest.py\", line 1329, in __run\n",
       "        compileflags, 1), test.globs)\n",
       "      File \"<doctest tests/q6_3.py 0[2]>\", line 1, in <module>\n",
       "        farmers_markets_locations.sort(0).take(range(3))\n",
       "    AttributeError: 'ellipsis' object has no attribute 'sort'\n",
       "</pre></p>\n",
       "     </li>\n",
       "            \n",
       "            </ul>\n",
       "        \n",
       "    \n",
       "    "
      ],
      "text/plain": [
       "<gofer.ok.OKTestsResult at 0x7f15dc0ffdd8>"
      ]
     },
     "metadata": {},
     "output_type": "display_data"
    },
    {
     "name": "stdout",
     "output_type": "stream",
     "text": [
      "Question 18:\n"
     ]
    },
    {
     "data": {
      "text/html": [
       "\n",
       "    \n",
       "    \n",
       "        <p>0 of 1 tests passed</p>\n",
       "        \n",
       "        \n",
       "        <p> <strong>Tests failed: </strong>\n",
       "            <ul>\n",
       "            \n",
       "                <li> \n",
       "    <p><strong style='color: red;'>tests/q6_4.py</strong></p>\n",
       "\n",
       "    <p><strong>Test code:</strong><pre><div class=\"highlight\" style=\"background: #f8f8f8\"><pre style=\"line-height: 125%\"><span></span><span style=\"color: #000080; font-weight: bold\">&gt;&gt;&gt; </span>average_latitude <span style=\"color: #666666\">==</span> <span style=\"color: #666666\">39.186464523495417</span>\n",
       "<span style=\"color: #888888\">True</span>\n",
       "<span style=\"color: #000080; font-weight: bold\">&gt;&gt;&gt; </span>average_longitude <span style=\"color: #666666\">==</span> <span style=\"color: #666666\">-90.992580812926292</span>\n",
       "<span style=\"color: #888888\">True</span>\n",
       "</pre></div>\n",
       "</pre></p>\n",
       "\n",
       "    <p><strong>Test result:</strong><pre>Trying:\n",
       "    average_latitude == 39.186464523495417\n",
       "Expecting:\n",
       "    True\n",
       "**********************************************************************\n",
       "Line 2, in tests/q6_4.py 0\n",
       "Failed example:\n",
       "    average_latitude == 39.186464523495417\n",
       "Exception raised:\n",
       "    Traceback (most recent call last):\n",
       "      File \"/srv/conda/envs/notebook/lib/python3.7/doctest.py\", line 1329, in __run\n",
       "        compileflags, 1), test.globs)\n",
       "      File \"<doctest tests/q6_4.py 0[0]>\", line 1, in <module>\n",
       "        average_latitude == 39.186464523495417\n",
       "    NameError: name 'average_latitude' is not defined\n",
       "Trying:\n",
       "    average_longitude == -90.992580812926292\n",
       "Expecting:\n",
       "    True\n",
       "**********************************************************************\n",
       "Line 4, in tests/q6_4.py 0\n",
       "Failed example:\n",
       "    average_longitude == -90.992580812926292\n",
       "Exception raised:\n",
       "    Traceback (most recent call last):\n",
       "      File \"/srv/conda/envs/notebook/lib/python3.7/doctest.py\", line 1329, in __run\n",
       "        compileflags, 1), test.globs)\n",
       "      File \"<doctest tests/q6_4.py 0[1]>\", line 1, in <module>\n",
       "        average_longitude == -90.992580812926292\n",
       "    NameError: name 'average_longitude' is not defined\n",
       "</pre></p>\n",
       "     </li>\n",
       "            \n",
       "            </ul>\n",
       "        \n",
       "    \n",
       "    "
      ],
      "text/plain": [
       "<gofer.ok.OKTestsResult at 0x7f15dc0ff940>"
      ]
     },
     "metadata": {},
     "output_type": "display_data"
    },
    {
     "name": "stdout",
     "output_type": "stream",
     "text": [
      "Question 19:\n"
     ]
    },
    {
     "data": {
      "text/html": [
       "\n",
       "    \n",
       "    \n",
       "        <p>0 of 1 tests passed</p>\n",
       "        \n",
       "        \n",
       "        <p> <strong>Tests failed: </strong>\n",
       "            <ul>\n",
       "            \n",
       "                <li> \n",
       "    <p><strong style='color: red;'>tests/q6_5.py</strong></p>\n",
       "\n",
       "    <p><strong>Test code:</strong><pre><div class=\"highlight\" style=\"background: #f8f8f8\"><pre style=\"line-height: 125%\"><span></span><span style=\"color: #000080; font-weight: bold\">&gt;&gt;&gt; </span>farmers_markets_without_fmid<span style=\"color: #666666\">.</span>num_columns\n",
       "<span style=\"color: #888888\">57</span>\n",
       "<span style=\"color: #000080; font-weight: bold\">&gt;&gt;&gt; </span><span style=\"color: #008000\">sorted</span>(farmers_markets_without_fmid<span style=\"color: #666666\">.</span>labels)\n",
       "<span style=\"color: #888888\">[&#39;Bakedgoods&#39;, &#39;Beans&#39;, &#39;Cheese&#39;, &#39;Coffee&#39;, &#39;County&#39;, &#39;Crafts&#39;, &#39;Credit&#39;, &#39;Eggs&#39;, &#39;Facebook&#39;, &#39;Flowers&#39;, &#39;Fruits&#39;, &#39;Grains&#39;, &#39;Herbs&#39;, &#39;Honey&#39;, &#39;Jams&#39;, &#39;Juices&#39;, &#39;Location&#39;, &#39;Maple&#39;, &#39;MarketName&#39;, &#39;Meat&#39;, &#39;Mushrooms&#39;, &#39;Nursery&#39;, &#39;Nuts&#39;, &#39;Organic&#39;, &#39;OtherMedia&#39;, &#39;PetFood&#39;, &#39;Plants&#39;, &#39;Poultry&#39;, &#39;Prepared&#39;, &#39;SFMNP&#39;, &#39;SNAP&#39;, &#39;Seafood&#39;, &#39;Season1Date&#39;, &#39;Season1Time&#39;, &#39;Season2Date&#39;, &#39;Season2Time&#39;, &#39;Season3Date&#39;, &#39;Season3Time&#39;, &#39;Season4Date&#39;, &#39;Season4Time&#39;, &#39;Soap&#39;, &#39;State&#39;, &#39;Tofu&#39;, &#39;Trees&#39;, &#39;Twitter&#39;, &#39;Vegetables&#39;, &#39;WIC&#39;, &#39;WICcash&#39;, &#39;Website&#39;, &#39;WildHarvested&#39;, &#39;Wine&#39;, &#39;Youtube&#39;, &#39;city&#39;, &#39;street&#39;, &#39;x&#39;, &#39;y&#39;, &#39;zip&#39;]</span>\n",
       "</pre></div>\n",
       "</pre></p>\n",
       "\n",
       "    <p><strong>Test result:</strong><pre>Trying:\n",
       "    farmers_markets_without_fmid.num_columns\n",
       "Expecting:\n",
       "    57\n",
       "**********************************************************************\n",
       "Line 2, in tests/q6_5.py 0\n",
       "Failed example:\n",
       "    farmers_markets_without_fmid.num_columns\n",
       "Exception raised:\n",
       "    Traceback (most recent call last):\n",
       "      File \"/srv/conda/envs/notebook/lib/python3.7/doctest.py\", line 1329, in __run\n",
       "        compileflags, 1), test.globs)\n",
       "      File \"<doctest tests/q6_5.py 0[0]>\", line 1, in <module>\n",
       "        farmers_markets_without_fmid.num_columns\n",
       "    AttributeError: 'ellipsis' object has no attribute 'num_columns'\n",
       "Trying:\n",
       "    sorted(farmers_markets_without_fmid.labels)\n",
       "Expecting:\n",
       "    ['Bakedgoods', 'Beans', 'Cheese', 'Coffee', 'County', 'Crafts', 'Credit', 'Eggs', 'Facebook', 'Flowers', 'Fruits', 'Grains', 'Herbs', 'Honey', 'Jams', 'Juices', 'Location', 'Maple', 'MarketName', 'Meat', 'Mushrooms', 'Nursery', 'Nuts', 'Organic', 'OtherMedia', 'PetFood', 'Plants', 'Poultry', 'Prepared', 'SFMNP', 'SNAP', 'Seafood', 'Season1Date', 'Season1Time', 'Season2Date', 'Season2Time', 'Season3Date', 'Season3Time', 'Season4Date', 'Season4Time', 'Soap', 'State', 'Tofu', 'Trees', 'Twitter', 'Vegetables', 'WIC', 'WICcash', 'Website', 'WildHarvested', 'Wine', 'Youtube', 'city', 'street', 'x', 'y', 'zip']\n",
       "**********************************************************************\n",
       "Line 4, in tests/q6_5.py 0\n",
       "Failed example:\n",
       "    sorted(farmers_markets_without_fmid.labels)\n",
       "Exception raised:\n",
       "    Traceback (most recent call last):\n",
       "      File \"/srv/conda/envs/notebook/lib/python3.7/doctest.py\", line 1329, in __run\n",
       "        compileflags, 1), test.globs)\n",
       "      File \"<doctest tests/q6_5.py 0[1]>\", line 1, in <module>\n",
       "        sorted(farmers_markets_without_fmid.labels)\n",
       "    AttributeError: 'ellipsis' object has no attribute 'labels'\n",
       "</pre></p>\n",
       "     </li>\n",
       "            \n",
       "            </ul>\n",
       "        \n",
       "    \n",
       "    "
      ],
      "text/plain": [
       "<gofer.ok.OKTestsResult at 0x7f15dc0ff6a0>"
      ]
     },
     "metadata": {},
     "output_type": "display_data"
    },
    {
     "name": "stdout",
     "output_type": "stream",
     "text": [
      "Question 20:\n"
     ]
    },
    {
     "data": {
      "text/html": [
       "\n",
       "    \n",
       "    \n",
       "        <p>0 of 1 tests passed</p>\n",
       "        \n",
       "        \n",
       "        <p> <strong>Tests failed: </strong>\n",
       "            <ul>\n",
       "            \n",
       "                <li> \n",
       "    <p><strong style='color: red;'>tests/q6_6.py</strong></p>\n",
       "\n",
       "    <p><strong>Test code:</strong><pre><div class=\"highlight\" style=\"background: #f8f8f8\"><pre style=\"line-height: 125%\"><span></span><span style=\"color: #000080; font-weight: bold\">&gt;&gt;&gt; </span>northern_markets<span style=\"color: #666666\">.</span>sort(<span style=\"color: #666666\">0</span>)\n",
       "<span style=\"color: #888888\">MarketName                    | city           | State  | y       | x</span>\n",
       "<span style=\"color: #888888\">Ester Community Market        | Ester          | Alaska | 64.8459 | -148.01</span>\n",
       "<span style=\"color: #888888\">Fairbanks Downtown Market     | Fairbanks      | Alaska | 64.8444 | -147.72</span>\n",
       "<span style=\"color: #888888\">Highway&#39;s End Farmers&#39; Market | Delta Junction | Alaska | 64.0385 | -145.733</span>\n",
       "<span style=\"color: #888888\">Nenana Open Air Market        | Nenana         | Alaska | 64.5566 | -149.096</span>\n",
       "<span style=\"color: #888888\">Tanana Valley Farmers Market  | Fairbanks      | Alaska | 64.8628 | -147.781</span>\n",
       "</pre></div>\n",
       "</pre></p>\n",
       "\n",
       "    <p><strong>Test result:</strong><pre>Trying:\n",
       "    northern_markets.sort(0)\n",
       "Expecting:\n",
       "    MarketName                    | city           | State  | y       | x\n",
       "    Ester Community Market        | Ester          | Alaska | 64.8459 | -148.01\n",
       "    Fairbanks Downtown Market     | Fairbanks      | Alaska | 64.8444 | -147.72\n",
       "    Highway's End Farmers' Market | Delta Junction | Alaska | 64.0385 | -145.733\n",
       "    Nenana Open Air Market        | Nenana         | Alaska | 64.5566 | -149.096\n",
       "    Tanana Valley Farmers Market  | Fairbanks      | Alaska | 64.8628 | -147.781\n",
       "**********************************************************************\n",
       "Line 2, in tests/q6_6.py 0\n",
       "Failed example:\n",
       "    northern_markets.sort(0)\n",
       "Exception raised:\n",
       "    Traceback (most recent call last):\n",
       "      File \"/srv/conda/envs/notebook/lib/python3.7/doctest.py\", line 1329, in __run\n",
       "        compileflags, 1), test.globs)\n",
       "      File \"<doctest tests/q6_6.py 0[0]>\", line 1, in <module>\n",
       "        northern_markets.sort(0)\n",
       "    AttributeError: 'ellipsis' object has no attribute 'sort'\n",
       "</pre></p>\n",
       "     </li>\n",
       "            \n",
       "            </ul>\n",
       "        \n",
       "    \n",
       "    "
      ],
      "text/plain": [
       "<gofer.ok.OKTestsResult at 0x7f15dc163160>"
      ]
     },
     "metadata": {},
     "output_type": "display_data"
    },
    {
     "name": "stdout",
     "output_type": "stream",
     "text": [
      "Question 21:\n"
     ]
    },
    {
     "data": {
      "text/html": [
       "\n",
       "    \n",
       "    \n",
       "        <p>0 of 1 tests passed</p>\n",
       "        \n",
       "        \n",
       "        <p> <strong>Tests failed: </strong>\n",
       "            <ul>\n",
       "            \n",
       "                <li> \n",
       "    <p><strong style='color: red;'>tests/q6_7.py</strong></p>\n",
       "\n",
       "    <p><strong>Test code:</strong><pre><div class=\"highlight\" style=\"background: #f8f8f8\"><pre style=\"line-height: 125%\"><span></span><span style=\"color: #000080; font-weight: bold\">&gt;&gt;&gt; </span>berkeley_markets<span style=\"color: #666666\">.</span>sort(<span style=\"color: #666666\">0</span>)\n",
       "<span style=\"color: #888888\">MarketName                        | city     | State      | y       | x</span>\n",
       "<span style=\"color: #888888\">Downtown Berkeley Farmers&#39; Market | Berkeley | California | 37.8697 | -122.273</span>\n",
       "<span style=\"color: #888888\">North Berkeley Farmers&#39; Market    | Berkeley | California | 37.8802 | -122.269</span>\n",
       "<span style=\"color: #888888\">South Berkeley Farmers&#39; Market    | Berkeley | California | 37.8478 | -122.272</span>\n",
       "</pre></div>\n",
       "</pre></p>\n",
       "\n",
       "    <p><strong>Test result:</strong><pre>Trying:\n",
       "    berkeley_markets.sort(0)\n",
       "Expecting:\n",
       "    MarketName                        | city     | State      | y       | x\n",
       "    Downtown Berkeley Farmers' Market | Berkeley | California | 37.8697 | -122.273\n",
       "    North Berkeley Farmers' Market    | Berkeley | California | 37.8802 | -122.269\n",
       "    South Berkeley Farmers' Market    | Berkeley | California | 37.8478 | -122.272\n",
       "**********************************************************************\n",
       "Line 2, in tests/q6_7.py 0\n",
       "Failed example:\n",
       "    berkeley_markets.sort(0)\n",
       "Exception raised:\n",
       "    Traceback (most recent call last):\n",
       "      File \"/srv/conda/envs/notebook/lib/python3.7/doctest.py\", line 1329, in __run\n",
       "        compileflags, 1), test.globs)\n",
       "      File \"<doctest tests/q6_7.py 0[0]>\", line 1, in <module>\n",
       "        berkeley_markets.sort(0)\n",
       "    AttributeError: 'ellipsis' object has no attribute 'sort'\n",
       "</pre></p>\n",
       "     </li>\n",
       "            \n",
       "            </ul>\n",
       "        \n",
       "    \n",
       "    "
      ],
      "text/plain": [
       "<gofer.ok.OKTestsResult at 0x7f15dc0ff080>"
      ]
     },
     "metadata": {},
     "output_type": "display_data"
    },
    {
     "data": {
      "text/plain": [
       "0.0"
      ]
     },
     "metadata": {},
     "output_type": "display_data"
    }
   ],
   "source": [
    "# For your convenience, you can run this cell to run all the tests at once!\n",
    "import glob\n",
    "from gofer.ok import grade_notebook\n",
    "if not globals().get('__GOFER_GRADER__', False):\n",
    "    display(grade_notebook('lab03.ipynb', sorted(glob.glob('tests/q*.py'))))"
   ]
  },
  {
   "cell_type": "code",
   "execution_count": 30,
   "metadata": {},
   "outputs": [],
   "source": [
    "a = \"http://datos.gob.cl/dataset/d3b3906f-29c0-40f9-8aa7-0402cee11899/resource/7671b0cf-9024-49e2-95ed-f06d509d8dad/download/interqcasnov2019.csv\""
   ]
  },
  {
   "cell_type": "code",
   "execution_count": 31,
   "metadata": {},
   "outputs": [
    {
     "ename": "UnicodeDecodeError",
     "evalue": "'utf-8' codec can't decode byte 0xf1 in position 32: invalid continuation byte",
     "output_type": "error",
     "traceback": [
      "\u001b[0;31m---------------------------------------------------------------------------\u001b[0m",
      "\u001b[0;31mUnicodeDecodeError\u001b[0m                        Traceback (most recent call last)",
      "\u001b[0;32m<ipython-input-31-ddb344441625>\u001b[0m in \u001b[0;36m<module>\u001b[0;34m\u001b[0m\n\u001b[0;32m----> 1\u001b[0;31m \u001b[0mTable\u001b[0m\u001b[0;34m.\u001b[0m\u001b[0mread_table\u001b[0m\u001b[0;34m(\u001b[0m\u001b[0ma\u001b[0m\u001b[0;34m)\u001b[0m\u001b[0;31m#.sort(0, descending=False, distinct=True).show(2)\u001b[0m\u001b[0;34m\u001b[0m\u001b[0;34m\u001b[0m\u001b[0m\n\u001b[0m",
      "\u001b[0;32m/srv/conda/envs/notebook/lib/python3.7/site-packages/datascience/tables.py\u001b[0m in \u001b[0;36mread_table\u001b[0;34m(cls, filepath_or_buffer, *args, **vargs)\u001b[0m\n\u001b[1;32m    130\u001b[0m         \u001b[0;32mexcept\u001b[0m \u001b[0mAttributeError\u001b[0m\u001b[0;34m:\u001b[0m\u001b[0;34m\u001b[0m\u001b[0;34m\u001b[0m\u001b[0m\n\u001b[1;32m    131\u001b[0m             \u001b[0;32mpass\u001b[0m\u001b[0;34m\u001b[0m\u001b[0;34m\u001b[0m\u001b[0m\n\u001b[0;32m--> 132\u001b[0;31m         \u001b[0mdf\u001b[0m \u001b[0;34m=\u001b[0m \u001b[0mpandas\u001b[0m\u001b[0;34m.\u001b[0m\u001b[0mread_table\u001b[0m\u001b[0;34m(\u001b[0m\u001b[0mfilepath_or_buffer\u001b[0m\u001b[0;34m,\u001b[0m \u001b[0;34m*\u001b[0m\u001b[0margs\u001b[0m\u001b[0;34m,\u001b[0m \u001b[0;34m**\u001b[0m\u001b[0mvargs\u001b[0m\u001b[0;34m)\u001b[0m\u001b[0;34m\u001b[0m\u001b[0;34m\u001b[0m\u001b[0m\n\u001b[0m\u001b[1;32m    133\u001b[0m         \u001b[0;32mreturn\u001b[0m \u001b[0mcls\u001b[0m\u001b[0;34m.\u001b[0m\u001b[0mfrom_df\u001b[0m\u001b[0;34m(\u001b[0m\u001b[0mdf\u001b[0m\u001b[0;34m)\u001b[0m\u001b[0;34m\u001b[0m\u001b[0;34m\u001b[0m\u001b[0m\n\u001b[1;32m    134\u001b[0m \u001b[0;34m\u001b[0m\u001b[0m\n",
      "\u001b[0;32m/srv/conda/envs/notebook/lib/python3.7/site-packages/pandas/io/parsers.py\u001b[0m in \u001b[0;36mparser_f\u001b[0;34m(filepath_or_buffer, sep, delimiter, header, names, index_col, usecols, squeeze, prefix, mangle_dupe_cols, dtype, engine, converters, true_values, false_values, skipinitialspace, skiprows, nrows, na_values, keep_default_na, na_filter, verbose, skip_blank_lines, parse_dates, infer_datetime_format, keep_date_col, date_parser, dayfirst, iterator, chunksize, compression, thousands, decimal, lineterminator, quotechar, quoting, escapechar, comment, encoding, dialect, tupleize_cols, error_bad_lines, warn_bad_lines, skipfooter, doublequote, delim_whitespace, low_memory, memory_map, float_precision)\u001b[0m\n\u001b[1;32m    676\u001b[0m                     skip_blank_lines=skip_blank_lines)\n\u001b[1;32m    677\u001b[0m \u001b[0;34m\u001b[0m\u001b[0m\n\u001b[0;32m--> 678\u001b[0;31m         \u001b[0;32mreturn\u001b[0m \u001b[0m_read\u001b[0m\u001b[0;34m(\u001b[0m\u001b[0mfilepath_or_buffer\u001b[0m\u001b[0;34m,\u001b[0m \u001b[0mkwds\u001b[0m\u001b[0;34m)\u001b[0m\u001b[0;34m\u001b[0m\u001b[0;34m\u001b[0m\u001b[0m\n\u001b[0m\u001b[1;32m    679\u001b[0m \u001b[0;34m\u001b[0m\u001b[0m\n\u001b[1;32m    680\u001b[0m     \u001b[0mparser_f\u001b[0m\u001b[0;34m.\u001b[0m\u001b[0m__name__\u001b[0m \u001b[0;34m=\u001b[0m \u001b[0mname\u001b[0m\u001b[0;34m\u001b[0m\u001b[0;34m\u001b[0m\u001b[0m\n",
      "\u001b[0;32m/srv/conda/envs/notebook/lib/python3.7/site-packages/pandas/io/parsers.py\u001b[0m in \u001b[0;36m_read\u001b[0;34m(filepath_or_buffer, kwds)\u001b[0m\n\u001b[1;32m    438\u001b[0m \u001b[0;34m\u001b[0m\u001b[0m\n\u001b[1;32m    439\u001b[0m     \u001b[0;31m# Create the parser.\u001b[0m\u001b[0;34m\u001b[0m\u001b[0;34m\u001b[0m\u001b[0;34m\u001b[0m\u001b[0m\n\u001b[0;32m--> 440\u001b[0;31m     \u001b[0mparser\u001b[0m \u001b[0;34m=\u001b[0m \u001b[0mTextFileReader\u001b[0m\u001b[0;34m(\u001b[0m\u001b[0mfilepath_or_buffer\u001b[0m\u001b[0;34m,\u001b[0m \u001b[0;34m**\u001b[0m\u001b[0mkwds\u001b[0m\u001b[0;34m)\u001b[0m\u001b[0;34m\u001b[0m\u001b[0;34m\u001b[0m\u001b[0m\n\u001b[0m\u001b[1;32m    441\u001b[0m \u001b[0;34m\u001b[0m\u001b[0m\n\u001b[1;32m    442\u001b[0m     \u001b[0;32mif\u001b[0m \u001b[0mchunksize\u001b[0m \u001b[0;32mor\u001b[0m \u001b[0miterator\u001b[0m\u001b[0;34m:\u001b[0m\u001b[0;34m\u001b[0m\u001b[0;34m\u001b[0m\u001b[0m\n",
      "\u001b[0;32m/srv/conda/envs/notebook/lib/python3.7/site-packages/pandas/io/parsers.py\u001b[0m in \u001b[0;36m__init__\u001b[0;34m(self, f, engine, **kwds)\u001b[0m\n\u001b[1;32m    785\u001b[0m             \u001b[0mself\u001b[0m\u001b[0;34m.\u001b[0m\u001b[0moptions\u001b[0m\u001b[0;34m[\u001b[0m\u001b[0;34m'has_index_names'\u001b[0m\u001b[0;34m]\u001b[0m \u001b[0;34m=\u001b[0m \u001b[0mkwds\u001b[0m\u001b[0;34m[\u001b[0m\u001b[0;34m'has_index_names'\u001b[0m\u001b[0;34m]\u001b[0m\u001b[0;34m\u001b[0m\u001b[0;34m\u001b[0m\u001b[0m\n\u001b[1;32m    786\u001b[0m \u001b[0;34m\u001b[0m\u001b[0m\n\u001b[0;32m--> 787\u001b[0;31m         \u001b[0mself\u001b[0m\u001b[0;34m.\u001b[0m\u001b[0m_make_engine\u001b[0m\u001b[0;34m(\u001b[0m\u001b[0mself\u001b[0m\u001b[0;34m.\u001b[0m\u001b[0mengine\u001b[0m\u001b[0;34m)\u001b[0m\u001b[0;34m\u001b[0m\u001b[0;34m\u001b[0m\u001b[0m\n\u001b[0m\u001b[1;32m    788\u001b[0m \u001b[0;34m\u001b[0m\u001b[0m\n\u001b[1;32m    789\u001b[0m     \u001b[0;32mdef\u001b[0m \u001b[0mclose\u001b[0m\u001b[0;34m(\u001b[0m\u001b[0mself\u001b[0m\u001b[0;34m)\u001b[0m\u001b[0;34m:\u001b[0m\u001b[0;34m\u001b[0m\u001b[0;34m\u001b[0m\u001b[0m\n",
      "\u001b[0;32m/srv/conda/envs/notebook/lib/python3.7/site-packages/pandas/io/parsers.py\u001b[0m in \u001b[0;36m_make_engine\u001b[0;34m(self, engine)\u001b[0m\n\u001b[1;32m   1012\u001b[0m     \u001b[0;32mdef\u001b[0m \u001b[0m_make_engine\u001b[0m\u001b[0;34m(\u001b[0m\u001b[0mself\u001b[0m\u001b[0;34m,\u001b[0m \u001b[0mengine\u001b[0m\u001b[0;34m=\u001b[0m\u001b[0;34m'c'\u001b[0m\u001b[0;34m)\u001b[0m\u001b[0;34m:\u001b[0m\u001b[0;34m\u001b[0m\u001b[0;34m\u001b[0m\u001b[0m\n\u001b[1;32m   1013\u001b[0m         \u001b[0;32mif\u001b[0m \u001b[0mengine\u001b[0m \u001b[0;34m==\u001b[0m \u001b[0;34m'c'\u001b[0m\u001b[0;34m:\u001b[0m\u001b[0;34m\u001b[0m\u001b[0;34m\u001b[0m\u001b[0m\n\u001b[0;32m-> 1014\u001b[0;31m             \u001b[0mself\u001b[0m\u001b[0;34m.\u001b[0m\u001b[0m_engine\u001b[0m \u001b[0;34m=\u001b[0m \u001b[0mCParserWrapper\u001b[0m\u001b[0;34m(\u001b[0m\u001b[0mself\u001b[0m\u001b[0;34m.\u001b[0m\u001b[0mf\u001b[0m\u001b[0;34m,\u001b[0m \u001b[0;34m**\u001b[0m\u001b[0mself\u001b[0m\u001b[0;34m.\u001b[0m\u001b[0moptions\u001b[0m\u001b[0;34m)\u001b[0m\u001b[0;34m\u001b[0m\u001b[0;34m\u001b[0m\u001b[0m\n\u001b[0m\u001b[1;32m   1015\u001b[0m         \u001b[0;32melse\u001b[0m\u001b[0;34m:\u001b[0m\u001b[0;34m\u001b[0m\u001b[0;34m\u001b[0m\u001b[0m\n\u001b[1;32m   1016\u001b[0m             \u001b[0;32mif\u001b[0m \u001b[0mengine\u001b[0m \u001b[0;34m==\u001b[0m \u001b[0;34m'python'\u001b[0m\u001b[0;34m:\u001b[0m\u001b[0;34m\u001b[0m\u001b[0;34m\u001b[0m\u001b[0m\n",
      "\u001b[0;32m/srv/conda/envs/notebook/lib/python3.7/site-packages/pandas/io/parsers.py\u001b[0m in \u001b[0;36m__init__\u001b[0;34m(self, src, **kwds)\u001b[0m\n\u001b[1;32m   1706\u001b[0m         \u001b[0mkwds\u001b[0m\u001b[0;34m[\u001b[0m\u001b[0;34m'usecols'\u001b[0m\u001b[0;34m]\u001b[0m \u001b[0;34m=\u001b[0m \u001b[0mself\u001b[0m\u001b[0;34m.\u001b[0m\u001b[0musecols\u001b[0m\u001b[0;34m\u001b[0m\u001b[0;34m\u001b[0m\u001b[0m\n\u001b[1;32m   1707\u001b[0m \u001b[0;34m\u001b[0m\u001b[0m\n\u001b[0;32m-> 1708\u001b[0;31m         \u001b[0mself\u001b[0m\u001b[0;34m.\u001b[0m\u001b[0m_reader\u001b[0m \u001b[0;34m=\u001b[0m \u001b[0mparsers\u001b[0m\u001b[0;34m.\u001b[0m\u001b[0mTextReader\u001b[0m\u001b[0;34m(\u001b[0m\u001b[0msrc\u001b[0m\u001b[0;34m,\u001b[0m \u001b[0;34m**\u001b[0m\u001b[0mkwds\u001b[0m\u001b[0;34m)\u001b[0m\u001b[0;34m\u001b[0m\u001b[0;34m\u001b[0m\u001b[0m\n\u001b[0m\u001b[1;32m   1709\u001b[0m \u001b[0;34m\u001b[0m\u001b[0m\n\u001b[1;32m   1710\u001b[0m         \u001b[0mpassed_names\u001b[0m \u001b[0;34m=\u001b[0m \u001b[0mself\u001b[0m\u001b[0;34m.\u001b[0m\u001b[0mnames\u001b[0m \u001b[0;32mis\u001b[0m \u001b[0;32mNone\u001b[0m\u001b[0;34m\u001b[0m\u001b[0;34m\u001b[0m\u001b[0m\n",
      "\u001b[0;32mpandas/_libs/parsers.pyx\u001b[0m in \u001b[0;36mpandas._libs.parsers.TextReader.__cinit__\u001b[0;34m()\u001b[0m\n",
      "\u001b[0;32mpandas/_libs/parsers.pyx\u001b[0m in \u001b[0;36mpandas._libs.parsers.TextReader._get_header\u001b[0;34m()\u001b[0m\n",
      "\u001b[0;31mUnicodeDecodeError\u001b[0m: 'utf-8' codec can't decode byte 0xf1 in position 32: invalid continuation byte"
     ]
    }
   ],
   "source": [
    "Table.read_table(a)#.sort(0, descending=False, distinct=True).show(2)"
   ]
  },
  {
   "cell_type": "code",
   "execution_count": null,
   "metadata": {},
   "outputs": [],
   "source": []
  },
  {
   "cell_type": "code",
   "execution_count": null,
   "metadata": {},
   "outputs": [],
   "source": []
  },
  {
   "cell_type": "code",
   "execution_count": null,
   "metadata": {},
   "outputs": [],
   "source": []
  },
  {
   "cell_type": "code",
   "execution_count": null,
   "metadata": {},
   "outputs": [],
   "source": []
  },
  {
   "cell_type": "code",
   "execution_count": null,
   "metadata": {},
   "outputs": [],
   "source": []
  }
 ],
 "metadata": {
  "anaconda-cloud": {},
  "course": "8x-audit",
  "kernelspec": {
   "display_name": "Python 3",
   "language": "python",
   "name": "python3"
  },
  "lab": "lab03",
  "language_info": {
   "codemirror_mode": {
    "name": "ipython",
    "version": 3
   },
   "file_extension": ".py",
   "mimetype": "text/x-python",
   "name": "python",
   "nbconvert_exporter": "python",
   "pygments_lexer": "ipython3",
   "version": "3.7.3"
  },
  "section": "1"
 },
 "nbformat": 4,
 "nbformat_minor": 1
}
